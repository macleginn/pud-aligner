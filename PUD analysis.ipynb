{
 "cells": [
  {
   "cell_type": "code",
   "execution_count": 142,
   "metadata": {},
   "outputs": [],
   "source": [
    "import sqlite3\n",
    "import pymorphy2\n",
    "import json\n",
    "from collections import Counter\n",
    "from itertools import combinations as combs\n",
    "from queue import SimpleQueue"
   ]
  },
  {
   "cell_type": "code",
   "execution_count": 2,
   "metadata": {},
   "outputs": [],
   "source": [
    "from pymorphy2 import MorphAnalyzer\n",
    "ma = MorphAnalyzer()"
   ]
  },
  {
   "cell_type": "code",
   "execution_count": 52,
   "metadata": {},
   "outputs": [],
   "source": [
    "def normalise_key(k):\n",
    "    \"\"\"Converts 0-based indexing to 1-based indexing.\"\"\"\n",
    "    return str(int(k)+1)"
   ]
  },
  {
   "cell_type": "code",
   "execution_count": 101,
   "metadata": {},
   "outputs": [],
   "source": [
    "def conll2graph(record):\n",
    "    \"\"\"Converts sentences described using CoNLL-U format (http://universaldependencies.org/format.html)\n",
    "    to graphs. Returns a dictionary of nodes (wordforms and POS tags indexed by line numbers)\n",
    "    together with a graph of the dependencies encoded as adjacency lists of\n",
    "    (node_key, relation_label, direction[up or down]) tuples.\"\"\"\n",
    "    graph = {}\n",
    "    nodes = {}\n",
    "    for line in record.splitlines():\n",
    "        if line.startswith('#'):\n",
    "            continue\n",
    "        fields = line.strip('\\n').split('\\t')\n",
    "        key = fields[0]\n",
    "        # lemma would be better, but there are no lemmas in Russian PUD\n",
    "        # take care of this at a later stage\n",
    "        wordform = fields[1] \n",
    "        pos = fields[3]\n",
    "        parent = fields[6]\n",
    "        relation = fields[7]\n",
    "        nodes[key] = { 'wordform': wordform, 'pos': pos }\n",
    "        if key not in graph:\n",
    "            graph[key] = []\n",
    "        if parent not in graph:\n",
    "            graph[parent] = []\n",
    "        graph[key].append((parent, relation, 'up'))\n",
    "        graph[parent].append((key, relation, 'down'))\n",
    "    return (nodes, graph)"
   ]
  },
  {
   "cell_type": "code",
   "execution_count": 136,
   "metadata": {},
   "outputs": [],
   "source": [
    "def extract_raw_sentences(record):\n",
    "    \"\"\"Extracts target and source sentences from the target record.\"\"\"\n",
    "    lines = record[3].splitlines()\n",
    "    for l in lines:\n",
    "        if l.startswith('# text = '):\n",
    "            target = l.strip('\\n')[len('# text = '):]\n",
    "            for l2 in lines:\n",
    "                if l2.startswith('# text_en = '):\n",
    "                    source = l2.strip('\\n')[len('# text_en = '):]\n",
    "                    return (source, target)\n",
    "            else:\n",
    "                raise ValueError('No source sentence found')\n",
    "    else:\n",
    "        raise ValueError('No target sentence found')"
   ]
  },
  {
   "cell_type": "code",
   "execution_count": 152,
   "metadata": {},
   "outputs": [],
   "source": [
    "def preprocess_alignment(alignment_str):\n",
    "    \"\"\"Extracts unaligned words and one-to-many alignments.\n",
    "    returns remaining edges as a list.\"\"\"\n",
    "    en_degrees = Counter()\n",
    "    fr_degrees = Counter()\n",
    "    unaligned_en = []\n",
    "    unaligned_fr = []\n",
    "    one_to_many_en = {}\n",
    "    one_to_many_fr = {}\n",
    "    alignment_edges = alignment_str.split()\n",
    "    real_edges = []\n",
    "    resulting_edges = []\n",
    "    for edge in alignment_edges:\n",
    "        en, fr = edge.split('-')\n",
    "        if en == 'X':\n",
    "            unaligned_fr.append(fr)\n",
    "        elif fr == 'X':\n",
    "            unaligned_en.append(en)\n",
    "        else:\n",
    "            en_degrees[en] += 1\n",
    "            fr_degrees[fr] += 1\n",
    "            real_edges.append((en, fr))\n",
    "    for edge in real_edges:\n",
    "        en, fr = edge\n",
    "        if en_degrees[en] > 1:\n",
    "            if en not in one_to_many_en:\n",
    "                one_to_many_en[en] = []\n",
    "            one_to_many_en[en].append(fr)\n",
    "        elif fr_degrees[fr] > 1:\n",
    "            if fr not in one_to_many_fr:\n",
    "                one_to_many_fr[fr] = []\n",
    "            one_to_many_fr[fr].append(en)\n",
    "        else:\n",
    "            resulting_edges.append(edge)\n",
    "    return (\n",
    "        unaligned_en,\n",
    "        unaligned_fr,\n",
    "        one_to_many_en,\n",
    "        one_to_many_fr,\n",
    "        resulting_edges\n",
    "    )"
   ]
  },
  {
   "cell_type": "code",
   "execution_count": 110,
   "metadata": {},
   "outputs": [],
   "source": [
    "def get_path(node1, node2, graph):\n",
    "    if node1 == node2:\n",
    "        return []\n",
    "    \n",
    "    # BFS with edge labels for paths\n",
    "    q = SimpleQueue()\n",
    "    # Remembers where we came from and the edge label\n",
    "    sources = {}\n",
    "    \n",
    "    q.put(node1)\n",
    "    visited = set()\n",
    "    visited.add(node1)\n",
    "    \n",
    "    while not q.empty():\n",
    "        current = q.get()\n",
    "        for neighbour, relation, direction in graph[current]:\n",
    "            if neighbour == node2:\n",
    "                path = [relation+'_'+direction]\n",
    "                source = current\n",
    "                while source != node1:\n",
    "                    prev_node, prev_relation, prev_direction = sources[source]\n",
    "                    path.append(prev_relation+'_'+prev_direction)\n",
    "                    source = prev_node\n",
    "                return list(reversed(path))\n",
    "            elif neighbour not in visited:\n",
    "                sources[neighbour] = (current, relation, direction)\n",
    "                q.put(neighbour)\n",
    "            visited.add(neighbour)\n",
    "            \n",
    "    raise ValueError(\"UD graph is not connected.\")"
   ]
  },
  {
   "cell_type": "code",
   "execution_count": 62,
   "metadata": {},
   "outputs": [],
   "source": [
    "# We use edit distance to compare paths.\n",
    "# Copied this from https://www.python-course.eu/levenshtein_distance.php\n",
    "# with some modifications\n",
    "# 's' and 't' are lists with POS tags as 'characters'.\n",
    "def iterative_levenshtein(s, t):\n",
    "    if len(s) == 0:\n",
    "        return len(t)\n",
    "    if len(t) == 0:\n",
    "        return len(s)\n",
    "    rows = len(s)+1\n",
    "    cols = len(t)+1\n",
    "    dist = [[0 for j in range(cols)] for i in range(rows)]\n",
    "    # source prefixes can be transformed into empty strings \n",
    "    # by deletions:\n",
    "    for i in range(1, rows):\n",
    "        dist[i][0] = i\n",
    "    # target prefixes can be created from an empty source string\n",
    "    # by inserting the characters\n",
    "    for i in range(1, cols):\n",
    "        dist[0][i] = i\n",
    "        \n",
    "    for col in range(1, cols):\n",
    "        for row in range(1, rows):\n",
    "            if s[row-1] == t[col-1]:\n",
    "                cost = 0\n",
    "            else:\n",
    "                cost = 1\n",
    "            dist[row][col] = min(dist[row-1][col] + 1,      # deletion\n",
    "                                 dist[row][col-1] + 1,      # insertion\n",
    "                                 dist[row-1][col-1] + cost) # substitution\n",
    " \n",
    "    return dist[row][col]"
   ]
  },
  {
   "cell_type": "code",
   "execution_count": 63,
   "metadata": {},
   "outputs": [
    {
     "data": {
      "text/plain": [
       "1"
      ]
     },
     "execution_count": 63,
     "metadata": {},
     "output_type": "execute_result"
    }
   ],
   "source": [
    "# Some unimaginative tests\n",
    "iterative_levenshtein(['obj', 'acl:relcl', 'nsubj'],\n",
    "                     ['obj', 'conj', 'nsubj'])"
   ]
  },
  {
   "cell_type": "code",
   "execution_count": 64,
   "metadata": {},
   "outputs": [
    {
     "data": {
      "text/plain": [
       "0"
      ]
     },
     "execution_count": 64,
     "metadata": {},
     "output_type": "execute_result"
    }
   ],
   "source": [
    "iterative_levenshtein(['obj', 'conj', 'nsubj'],\n",
    "                     ['obj', 'conj', 'nsubj'])"
   ]
  },
  {
   "cell_type": "code",
   "execution_count": 65,
   "metadata": {},
   "outputs": [
    {
     "data": {
      "text/plain": [
       "2"
      ]
     },
     "execution_count": 65,
     "metadata": {},
     "output_type": "execute_result"
    }
   ],
   "source": [
    "iterative_levenshtein(\n",
    "    ['obj', 'conj', 'nsubj'],\n",
    "    list(reversed(['obj', 'conj', 'nsubj']))\n",
    ")"
   ]
  },
  {
   "cell_type": "code",
   "execution_count": 67,
   "metadata": {},
   "outputs": [
    {
     "data": {
      "text/plain": [
       "3"
      ]
     },
     "execution_count": 67,
     "metadata": {},
     "output_type": "execute_result"
    }
   ],
   "source": [
    "iterative_levenshtein(\n",
    "    ['obj', 'conj', 'nsubj'],\n",
    "    []\n",
    ")"
   ]
  },
  {
   "cell_type": "code",
   "execution_count": 66,
   "metadata": {},
   "outputs": [
    {
     "data": {
      "text/plain": [
       "0"
      ]
     },
     "execution_count": 66,
     "metadata": {},
     "output_type": "execute_result"
    }
   ],
   "source": [
    "iterative_levenshtein([], [])"
   ]
  },
  {
   "cell_type": "code",
   "execution_count": null,
   "metadata": {},
   "outputs": [],
   "source": [
    "from itertools import combinations as combs\n",
    "def get_corpus_stats(records):\n",
    "    \"\"\"en stands for any first language in the parallel corpus,\n",
    "    ru for any second language.\"\"\"\n",
    "    # Get POS distribution for unaligned words\n",
    "    en_unaligned_pos = {}\n",
    "    en_unaligned_by_pos = {}\n",
    "    ru_unaligned_pos = {}\n",
    "    ru_unaligned_by_pos = {}\n",
    "    for i, r in enumerate(records):\n",
    "        unalgnd_en, unalgnd_ru = get_unaligned(r[4])\n",
    "        nodes_en, graph_en, digraph_en = conll2graph(r[2])\n",
    "        nodes_ru, graph_ru, digraph_ru = conll2graph(r[3])\n",
    "        for key, pos in get_unaligned_pos(unalgnd_ru, nodes_ru).items():\n",
    "            ru_unaligned_pos[pos] = ru_unaligned_pos.get(pos, 0) + 1\n",
    "            if pos not in ru_unaligned_by_pos:\n",
    "                ru_unaligned_by_pos[pos] = []\n",
    "            ru_unaligned_by_pos[pos].append((nodes_ru[key]['wordform'], i))\n",
    "        for key, pos in get_unaligned_pos(unalgnd_en, nodes_en).items():\n",
    "            en_unaligned_pos[pos] = en_unaligned_pos.get(pos, 0) + 1\n",
    "            if pos not in en_unaligned_by_pos:\n",
    "                en_unaligned_by_pos[pos] = []\n",
    "            en_unaligned_by_pos[pos].append((nodes_en[key]['wordform'], i))\n",
    "\n",
    "    # Get paths between nodes in the target language\n",
    "    # corresponding to 1-edge paths between nodes\n",
    "    # in the source language.\n",
    "    path_pairs = {}\n",
    "    for i, r in enumerate(records):\n",
    "        \n",
    "            \n",
    "        \n",
    "    return (\n",
    "        en_unaligned_pos,\n",
    "        en_unaligned_by_pos,\n",
    "        ru_unaligned_pos,\n",
    "        ru_unaligned_by_pos,\n",
    "        path_pairs\n",
    "    )"
   ]
  },
  {
   "cell_type": "code",
   "execution_count": 5,
   "metadata": {},
   "outputs": [],
   "source": [
    "def get_edges(s):\n",
    "    en_ru = {}\n",
    "    for edge in s.split():\n",
    "        head, tail = edge.split('-')\n",
    "        if head == 'X' or tail == 'X':\n",
    "            continue\n",
    "        if head not in en_ru:\n",
    "            en_ru[head] = []\n",
    "        head = str(int(head)+1)\n",
    "        tail = str(int(tail)+1)\n",
    "        en_ru[head].append(tail)\n",
    "    return en_ru"
   ]
  },
  {
   "cell_type": "code",
   "execution_count": 6,
   "metadata": {},
   "outputs": [],
   "source": [
    "def get_unaligned_pos(unaligned, nodes):\n",
    "    unaligned_pos = {}\n",
    "    for u in unaligned:\n",
    "        key = str(int(u)+1)\n",
    "        unaligned_pos[key] = nodes[key]['pos']\n",
    "    return unaligned_pos"
   ]
  },
  {
   "cell_type": "code",
   "execution_count": 7,
   "metadata": {},
   "outputs": [],
   "source": [
    "def lemmatise_ru(wordform):\n",
    "    return ma.parse(wordform)[0].normal_form"
   ]
  },
  {
   "cell_type": "code",
   "execution_count": 85,
   "metadata": {},
   "outputs": [],
   "source": [
    "conn = sqlite3.connect('pud_25_12.db')\n",
    "cursor = conn.cursor()"
   ]
  },
  {
   "cell_type": "code",
   "execution_count": 88,
   "metadata": {},
   "outputs": [],
   "source": [
    "# Get POS distribution for unaligned words\n",
    "en_unaligned_pos = {}\n",
    "en_unaligned_by_pos = {}\n",
    "ru_unaligned_pos = {}\n",
    "ru_unaligned_by_pos = {}\n",
    "edges_stats = {}\n",
    "for i, r in enumerate(records):\n",
    "#     en_ru_edges = get_edges(r)\n",
    "#     for head, val in en_ru_edges.items():\n",
    "#         for tail in val:\n",
    "#             edges_stats\n",
    "    unalgnd_en, unalgnd_ru = get_unaligned(r[4])\n",
    "    nodes_en, graph_en = conll2graph(r[2])\n",
    "    nodes_ru, graph_ru = conll2graph(r[3])\n",
    "    for key, pos in get_unaligned_pos(unalgnd_ru, nodes_ru).items():\n",
    "        ru_unaligned_pos[pos] = ru_unaligned_pos.get(pos, 0) + 1\n",
    "        if pos not in ru_unaligned_by_pos:\n",
    "            ru_unaligned_by_pos[pos] = []\n",
    "        ru_unaligned_by_pos[pos].append((nodes_ru[key]['wordform'], i))\n",
    "    for key, pos in get_unaligned_pos(unalgnd_en, nodes_en).items():\n",
    "        en_unaligned_pos[pos] = en_unaligned_pos.get(pos, 0) + 1\n",
    "        if pos not in en_unaligned_by_pos:\n",
    "            en_unaligned_by_pos[pos] = []\n",
    "        en_unaligned_by_pos[pos].append((nodes_en[key]['wordform'], i))"
   ]
  },
  {
   "cell_type": "code",
   "execution_count": 87,
   "metadata": {},
   "outputs": [
    {
     "data": {
      "text/plain": [
       "465"
      ]
     },
     "execution_count": 87,
     "metadata": {},
     "output_type": "execute_result"
    }
   ],
   "source": [
    "sum(ru_unaligned_pos.values())"
   ]
  },
  {
   "cell_type": "code",
   "execution_count": 106,
   "metadata": {},
   "outputs": [
    {
     "data": {
      "text/plain": [
       "[('world', 2),\n",
       " ('side', 2),\n",
       " ('time', 2),\n",
       " ('post', 1),\n",
       " ('shoulders', 1),\n",
       " ('example', 1),\n",
       " ('market', 1),\n",
       " ('levels', 1),\n",
       " ('targets', 1),\n",
       " ('element', 1)]"
      ]
     },
     "execution_count": 106,
     "metadata": {},
     "output_type": "execute_result"
    }
   ],
   "source": [
    "Counter(el[0].lower() for el in en_unaligned_by_pos['NOUN']).most_common(10)"
   ]
  },
  {
   "cell_type": "code",
   "execution_count": 107,
   "metadata": {},
   "outputs": [
    {
     "data": {
      "text/plain": [
       "[('have', 3),\n",
       " ('take', 2),\n",
       " ('teaching', 1),\n",
       " ('face', 1),\n",
       " ('cast', 1),\n",
       " ('secure', 1),\n",
       " ('ruin', 1),\n",
       " ('needed', 1),\n",
       " ('carrying', 1),\n",
       " ('read', 1)]"
      ]
     },
     "execution_count": 107,
     "metadata": {},
     "output_type": "execute_result"
    }
   ],
   "source": [
    "Counter(el[0].lower() for el in en_unaligned_by_pos['VERB']).most_common(10)"
   ]
  },
  {
   "cell_type": "code",
   "execution_count": 131,
   "metadata": {},
   "outputs": [
    {
     "data": {
      "text/plain": [
       "[('needed', 47)]"
      ]
     },
     "execution_count": 131,
     "metadata": {},
     "output_type": "execute_result"
    }
   ],
   "source": [
    "[el for el in en_unaligned_by_pos['VERB'] if el[0] == 'needed']"
   ]
  },
  {
   "cell_type": "code",
   "execution_count": 110,
   "metadata": {},
   "outputs": [
    {
     "data": {
      "text/plain": [
       "[('many', 3),\n",
       " ('more', 2),\n",
       " ('own', 2),\n",
       " ('much', 1),\n",
       " ('underlying', 1),\n",
       " ('old', 1),\n",
       " ('positive', 1),\n",
       " ('like', 1),\n",
       " ('best', 1),\n",
       " ('hawkish', 1)]"
      ]
     },
     "execution_count": 110,
     "metadata": {},
     "output_type": "execute_result"
    }
   ],
   "source": [
    "Counter(el[0].lower() for el in en_unaligned_by_pos['ADJ']).most_common(10)"
   ]
  },
  {
   "cell_type": "code",
   "execution_count": 111,
   "metadata": {},
   "outputs": [
    {
     "data": {
      "text/plain": [
       "[('just', 4),\n",
       " ('so', 2),\n",
       " ('right', 2),\n",
       " ('how', 2),\n",
       " ('eventually', 2),\n",
       " ('here', 1),\n",
       " ('again', 1),\n",
       " ('slightly', 1),\n",
       " ('still', 1),\n",
       " ('earlier', 1)]"
      ]
     },
     "execution_count": 111,
     "metadata": {},
     "output_type": "execute_result"
    }
   ],
   "source": [
    "Counter(el[0].lower() for el in en_unaligned_by_pos['ADV']).most_common(10)"
   ]
  },
  {
   "cell_type": "code",
   "execution_count": 104,
   "metadata": {},
   "outputs": [
    {
     "data": {
      "text/plain": [
       "[('город', 4),\n",
       " ('проблема', 3),\n",
       " ('компания', 3),\n",
       " ('размер', 3),\n",
       " ('штат', 3),\n",
       " ('ситуация', 3),\n",
       " ('место', 3),\n",
       " ('следующий', 3),\n",
       " ('сумма', 2),\n",
       " ('результат', 2)]"
      ]
     },
     "execution_count": 104,
     "metadata": {},
     "output_type": "execute_result"
    }
   ],
   "source": [
    "Counter(lemmatise(el[0].lower()) for el in ru_unaligned_by_pos['NOUN']).most_common(10)"
   ]
  },
  {
   "cell_type": "code",
   "execution_count": 83,
   "metadata": {
    "scrolled": true
   },
   "outputs": [
    {
     "data": {
      "text/plain": [
       "[('Wi-Fi', 35),\n",
       " ('же', 217),\n",
       " ('же', 224),\n",
       " ('Именно', 254),\n",
       " ('Лишь', 278),\n",
       " ('же', 355)]"
      ]
     },
     "execution_count": 83,
     "metadata": {},
     "output_type": "execute_result"
    }
   ],
   "source": [
    "ru_unaligned_by_pos['X']"
   ]
  },
  {
   "cell_type": "code",
   "execution_count": 81,
   "metadata": {
    "scrolled": true
   },
   "outputs": [
    {
     "data": {
      "text/plain": [
       "[('производителей', 7),\n",
       " ('соглашений', 48),\n",
       " ('КНР', 245),\n",
       " ('VW', 261),\n",
       " ('Великобритании', 279),\n",
       " ('Америки', 321),\n",
       " ('защиты', 333),\n",
       " ('Эмиратов', 365)]"
      ]
     },
     "execution_count": 81,
     "metadata": {},
     "output_type": "execute_result"
    }
   ],
   "source": [
    "ru_unaligned_by_pos['PROPN']"
   ]
  },
  {
   "cell_type": "code",
   "execution_count": 103,
   "metadata": {},
   "outputs": [
    {
     "data": {
      "text/plain": [
       "[('мочь', 3),\n",
       " ('е.', 3),\n",
       " ('позволить', 2),\n",
       " ('удаться', 2),\n",
       " ('обратить', 2),\n",
       " ('сидеть', 2),\n",
       " ('обладать', 2),\n",
       " ('продолжать', 2),\n",
       " ('продолжить', 2),\n",
       " ('говорить', 2)]"
      ]
     },
     "execution_count": 103,
     "metadata": {},
     "output_type": "execute_result"
    }
   ],
   "source": [
    "Counter(lemmatise(el[0].lower()) for el in ru_unaligned_by_pos['VERB']).most_common(10)"
   ]
  },
  {
   "cell_type": "code",
   "execution_count": 105,
   "metadata": {},
   "outputs": [
    {
     "data": {
      "text/plain": [
       "[('такой', 6),\n",
       " ('самый', 4),\n",
       " ('другой', 3),\n",
       " ('никакой', 2),\n",
       " ('должный', 2),\n",
       " ('столичный', 1),\n",
       " ('инновационный', 1),\n",
       " ('деловой', 1),\n",
       " ('многие', 1),\n",
       " ('опасный', 1)]"
      ]
     },
     "execution_count": 105,
     "metadata": {},
     "output_type": "execute_result"
    }
   ],
   "source": [
    "Counter(lemmatise(el[0].lower()) for el in ru_unaligned_by_pos['ADJ']).most_common(10)"
   ]
  },
  {
   "cell_type": "code",
   "execution_count": 112,
   "metadata": {},
   "outputs": [
    {
     "data": {
      "text/plain": [
       "[('уже', 5),\n",
       " ('только', 3),\n",
       " ('там', 3),\n",
       " ('весь', 3),\n",
       " ('здесь', 2),\n",
       " ('очень', 2),\n",
       " ('снова', 2),\n",
       " ('совсем', 2),\n",
       " ('ещё', 2),\n",
       " ('сегодня', 1)]"
      ]
     },
     "execution_count": 112,
     "metadata": {},
     "output_type": "execute_result"
    }
   ],
   "source": [
    "Counter(lemmatise(el[0].lower()) for el in ru_unaligned_by_pos['ADV']).most_common(10)"
   ]
  },
  {
   "cell_type": "code",
   "execution_count": 13,
   "metadata": {},
   "outputs": [],
   "source": [
    "en_fr = [r for r in cursor.execute('select * from `en-fr`')][:740]"
   ]
  },
  {
   "cell_type": "code",
   "execution_count": 103,
   "metadata": {},
   "outputs": [],
   "source": [
    "en_n, en_g = conll2graph(en_fr[647][2])\n",
    "fr_n, fr_g = conll2graph(en_fr[647][3])"
   ]
  },
  {
   "cell_type": "code",
   "execution_count": 104,
   "metadata": {},
   "outputs": [
    {
     "data": {
      "text/plain": [
       "{'1': {'wordform': 'Lenny', 'pos': 'PROPN'},\n",
       " '2': {'wordform': 'is', 'pos': 'AUX'},\n",
       " '3': {'wordform': 'a', 'pos': 'DET'},\n",
       " '4': {'wordform': 'persistent', 'pos': 'ADJ'},\n",
       " '5': {'wordform': 'bachelor', 'pos': 'NOUN'},\n",
       " '6': {'wordform': 'who', 'pos': 'PRON'},\n",
       " '7': {'wordform': 'has', 'pos': 'VERB'},\n",
       " '8': {'wordform': 'poor', 'pos': 'ADJ'},\n",
       " '9': {'wordform': 'luck', 'pos': 'NOUN'},\n",
       " '10': {'wordform': 'with', 'pos': 'ADP'},\n",
       " '11': {'wordform': 'women', 'pos': 'NOUN'},\n",
       " '12': {'wordform': '.', 'pos': 'PUNCT'}}"
      ]
     },
     "execution_count": 104,
     "metadata": {},
     "output_type": "execute_result"
    }
   ],
   "source": [
    "en_n"
   ]
  },
  {
   "cell_type": "code",
   "execution_count": 105,
   "metadata": {},
   "outputs": [
    {
     "data": {
      "text/plain": [
       "{'1': {'wordform': 'Lenny', 'pos': 'PROPN'},\n",
       " '2': {'wordform': 'est', 'pos': 'AUX'},\n",
       " '3': {'wordform': 'un', 'pos': 'DET'},\n",
       " '4': {'wordform': 'célibataire', 'pos': 'NOUN'},\n",
       " '5': {'wordform': 'endurci', 'pos': 'ADJ'},\n",
       " '6': {'wordform': 'et', 'pos': 'CCONJ'},\n",
       " '7': {'wordform': 'qui', 'pos': 'PRON'},\n",
       " '8': {'wordform': 'n’', 'pos': 'ADV'},\n",
       " '9': {'wordform': 'a', 'pos': 'VERB'},\n",
       " '10': {'wordform': 'aucune', 'pos': 'ADJ'},\n",
       " '11': {'wordform': 'chance', 'pos': 'NOUN'},\n",
       " '12': {'wordform': 'avec', 'pos': 'ADP'},\n",
       " '13': {'wordform': 'les', 'pos': 'DET'},\n",
       " '14': {'wordform': 'femmes', 'pos': 'NOUN'},\n",
       " '15': {'wordform': '.', 'pos': 'PUNCT'}}"
      ]
     },
     "execution_count": 105,
     "metadata": {},
     "output_type": "execute_result"
    }
   ],
   "source": [
    "fr_n"
   ]
  },
  {
   "cell_type": "code",
   "execution_count": 111,
   "metadata": {},
   "outputs": [
    {
     "data": {
      "text/plain": [
       "['nsubj_up', 'acl:relcl_down', 'obj_down']"
      ]
     },
     "execution_count": 111,
     "metadata": {},
     "output_type": "execute_result"
    }
   ],
   "source": [
    "get_path('1', '9', en_g)"
   ]
  },
  {
   "cell_type": "code",
   "execution_count": 112,
   "metadata": {},
   "outputs": [
    {
     "data": {
      "text/plain": [
       "['nsubj_up', 'conj_down', 'obj_down']"
      ]
     },
     "execution_count": 112,
     "metadata": {},
     "output_type": "execute_result"
    }
   ],
   "source": [
    "get_path('1', '11', fr_g)"
   ]
  },
  {
   "cell_type": "code",
   "execution_count": 46,
   "metadata": {},
   "outputs": [],
   "source": [
    "alignment = en_fr[647][4]"
   ]
  },
  {
   "cell_type": "code",
   "execution_count": 47,
   "metadata": {},
   "outputs": [
    {
     "data": {
      "text/plain": [
       "'0-0 4-3 3-4 6-8 7-9 7-7 8-10 10-13 X-5'"
      ]
     },
     "execution_count": 47,
     "metadata": {},
     "output_type": "execute_result"
    }
   ],
   "source": [
    "alignment"
   ]
  },
  {
   "cell_type": "code",
   "execution_count": 59,
   "metadata": {},
   "outputs": [
    {
     "name": "stdout",
     "output_type": "stream",
     "text": [
      "Lenny->bachelor vs. Lenny->célibataire\n",
      "Lenny->persistent vs. Lenny->endurci\n",
      "Lenny->has vs. Lenny->a\n",
      "Lenny->poor vs. Lenny->aucune\n",
      "Lenny->poor vs. Lenny->n’\n",
      "Lenny->luck vs. Lenny->chance\n",
      "Lenny->women vs. Lenny->femmes\n",
      "bachelor->persistent vs. célibataire->endurci\n",
      "bachelor->has vs. célibataire->a\n",
      "bachelor->poor vs. célibataire->aucune\n",
      "bachelor->poor vs. célibataire->n’\n",
      "bachelor->luck vs. célibataire->chance\n",
      "bachelor->women vs. célibataire->femmes\n",
      "persistent->has vs. endurci->a\n",
      "persistent->poor vs. endurci->aucune\n",
      "persistent->poor vs. endurci->n’\n",
      "persistent->luck vs. endurci->chance\n",
      "persistent->women vs. endurci->femmes\n",
      "has->poor vs. a->aucune\n",
      "has->poor vs. a->n’\n",
      "has->luck vs. a->chance\n",
      "has->women vs. a->femmes\n",
      "poor->poor vs. aucune->n’\n",
      "poor->luck vs. aucune->chance\n",
      "poor->women vs. aucune->femmes\n",
      "poor->luck vs. n’->chance\n",
      "poor->women vs. n’->femmes\n",
      "luck->women vs. chance->femmes\n"
     ]
    }
   ],
   "source": [
    "# Check aligned pairs\n",
    "for c in combs(alignment.split(), 2):\n",
    "    p, q = c\n",
    "    if 'X' in p + q:\n",
    "        continue\n",
    "    en1, fr1 = map(normalise_key, p.split('-'))\n",
    "    en2, fr2 = map(normalise_key, q.split('-'))\n",
    "    print(f'{en_n[en1][\"wordform\"]}->{en_n[en2][\"wordform\"]} vs. {fr_n[fr1][\"wordform\"]}->{fr_n[fr2][\"wordform\"]}')"
   ]
  },
  {
   "cell_type": "code",
   "execution_count": 73,
   "metadata": {},
   "outputs": [],
   "source": [
    "distances = []\n",
    "for c in combs(alignment.split(), 2):\n",
    "    p, q = c\n",
    "    if 'X' in p + q:\n",
    "        continue\n",
    "    en1, fr1 = map(normalise_key, p.split('-'))\n",
    "    en2, fr2 = map(normalise_key, q.split('-'))\n",
    "    path_en = get_path(en1, en2, en_g)\n",
    "    path_fr = get_path(fr1, fr2, fr_g)\n",
    "    if not path_en or not path_fr:\n",
    "        dist = 0 # One-to-many alignment\n",
    "    else:\n",
    "        dist = iterative_levenshtein(path_en, path_fr)\n",
    "    distances.append(dist)"
   ]
  },
  {
   "cell_type": "code",
   "execution_count": 74,
   "metadata": {},
   "outputs": [
    {
     "data": {
      "text/plain": [
       "[0,\n",
       " 0,\n",
       " 1,\n",
       " 1,\n",
       " 3,\n",
       " 1,\n",
       " 3,\n",
       " 0,\n",
       " 1,\n",
       " 1,\n",
       " 3,\n",
       " 1,\n",
       " 3,\n",
       " 1,\n",
       " 1,\n",
       " 3,\n",
       " 1,\n",
       " 3,\n",
       " 0,\n",
       " 2,\n",
       " 0,\n",
       " 2,\n",
       " 0,\n",
       " 0,\n",
       " 2,\n",
       " 2,\n",
       " 2,\n",
       " 2]"
      ]
     },
     "execution_count": 74,
     "metadata": {},
     "output_type": "execute_result"
    }
   ],
   "source": [
    "distances"
   ]
  },
  {
   "cell_type": "code",
   "execution_count": 153,
   "metadata": {},
   "outputs": [
    {
     "data": {
      "text/plain": [
       "([],\n",
       " [],\n",
       " {'2': ['6', '4', '5'], '8': ['13', '12'], '20': ['27', '30']},\n",
       " {'16': ['12', '11'], '45': ['31', '32']},\n",
       " [('6', '9'),\n",
       "  ('5', '10'),\n",
       "  ('16', '19'),\n",
       "  ('15', '20'),\n",
       "  ('18', '23'),\n",
       "  ('28', '34'),\n",
       "  ('26', '35'),\n",
       "  ('27', '36'),\n",
       "  ('25', '38'),\n",
       "  ('24', '39'),\n",
       "  ('23', '41'),\n",
       "  ('33', '47'),\n",
       "  ('1', '1'),\n",
       "  ('9', '14'),\n",
       "  ('29', '43')])"
      ]
     },
     "execution_count": 153,
     "metadata": {},
     "output_type": "execute_result"
    }
   ],
   "source": [
    "preprocess_alignment(en_fr[0][4])"
   ]
  },
  {
   "cell_type": "code",
   "execution_count": 167,
   "metadata": {},
   "outputs": [],
   "source": [
    "def get_path_pairs(en_fr, corpus_name):\n",
    "    all_distances = []\n",
    "    average_distances = []\n",
    "    source_path_lengths_l = []\n",
    "    all_distances_l = []\n",
    "    path_pairs = {}\n",
    "    one_to_many_tmp = []\n",
    "    for i, record in enumerate(en_fr):\n",
    "        en_n, en_g = conll2graph(record[2])\n",
    "        fr_n, fr_g = conll2graph(record[3])\n",
    "        # TODO: report unaligned, one-to-many\n",
    "        (unaligned_en, unalined_fr, \n",
    "         one_to_many_en, one_to_many_fr, \n",
    "         alignment_edges) = preprocess_alignment(record[4])\n",
    "        distances = []\n",
    "        source_sent, target_sent = extract_raw_sentences(record)\n",
    "        for c in combs(alignment_edges, 2):\n",
    "            p, q = c\n",
    "            en1, fr1 = map(normalise_key, p)\n",
    "            en2, fr2 = map(normalise_key, q)\n",
    "            if fr_n[fr1]['pos'] == 'CCONJ' or fr_n[fr2]['pos'] == 'CCONJ':\n",
    "                continue # CCONJs were not aligned for Russian\n",
    "            path_en = get_path(en1, en2, en_g)\n",
    "            path_fr = get_path(fr1, fr2, fr_g)\n",
    "            dist = iterative_levenshtein(path_en, path_fr)\n",
    "            source_path_lengths_l.append(len(path_en))\n",
    "            all_distances_l.append(dist)\n",
    "            if len(path_en) == 1 and dist > 0:\n",
    "                key = path_en[0] + ' vs .' '->'.join(path_fr)\n",
    "                if key not in path_pairs:\n",
    "                    path_pairs[key] = {\n",
    "                        'path_en': path_en[0],\n",
    "                        'path_fr': '->'.join(path_fr),\n",
    "                        'count': 0,\n",
    "                        'examples': []\n",
    "                    }\n",
    "                path_pairs[key]['count'] += 1\n",
    "                path_pairs[key]['examples'].append(\n",
    "                    (\n",
    "                        f'{en_n[en1][\"wordform\"]}->{en_n[en2][\"wordform\"]}',\n",
    "                        f'{fr_n[fr1][\"wordform\"]}->{fr_n[fr2][\"wordform\"]}',\n",
    "                        source_sent,\n",
    "                        target_sent,\n",
    "                        i+1\n",
    "                    )\n",
    "                )\n",
    "            distances.append(dist)\n",
    "            all_distances.append(dist)\n",
    "        try:\n",
    "            average_distances.append(sum(distances)/len(distances))\n",
    "        except ZeroDivisionError:\n",
    "            print(i+1)\n",
    "    path_pairs_sorted = sorted(path_pairs.values(), key = lambda x: x['count'], reverse=True)\n",
    "    with open(f'path_divergences_{corpus_name}.json', 'w', encoding='utf-8') as out:\n",
    "        json.dump(path_pairs_sorted, out, ensure_ascii=False, indent=4)\n",
    "    # Dump into csv with one example for each type\n",
    "    with open(f'path_pairs_examples_{corpus_name}.csv', 'w', encoding='utf-8') as out:\n",
    "        out.write('\\t'.join(['PathEn',\n",
    "                            'PathFr',\n",
    "                            'Count',\n",
    "                            'ExampleWordsEn',\n",
    "                            'ExampleWordsFr',\n",
    "                            'ExampleSentenceEn',\n",
    "                            'ExampleSentenceFr',\n",
    "                            'SentenceID']) + '\\n')\n",
    "        for pp in path_pairs_sorted:\n",
    "            out.write(f\"{pp['path_en']}\\t{pp['path_fr']}\\t{pp['count']}\\t\" +\\\n",
    "            '\\t'.join(str(el) for el in pp['examples'][0]) + '\\n')"
   ]
  },
  {
   "cell_type": "code",
   "execution_count": 168,
   "metadata": {},
   "outputs": [
    {
     "name": "stdout",
     "output_type": "stream",
     "text": [
      "291\n"
     ]
    }
   ],
   "source": [
    "en_ru = [r for r in cursor.execute('select * from `en-ru`')][:400]\n",
    "get_path_pairs(en_ru, 'en_ru')\n",
    "\n",
    "# with open('en_fr_average_distances.dat', 'w') as out:\n",
    "#     out.write(','.join(str(el) for el in average_distances))\n",
    "# with open('en_fr_all_distances.dat', 'w') as out:\n",
    "#     out.write(','.join(str(el) for el in all_distances))"
   ]
  },
  {
   "cell_type": "code",
   "execution_count": 126,
   "metadata": {},
   "outputs": [
    {
     "data": {
      "text/plain": [
       "(['nmod_down'], ['nmod_down'])"
      ]
     },
     "execution_count": 126,
     "metadata": {},
     "output_type": "execute_result"
    }
   ],
   "source": [
    "path_pairs[0]"
   ]
  },
  {
   "cell_type": "code",
   "execution_count": 120,
   "metadata": {},
   "outputs": [],
   "source": [
    "path_pairs_1 = [el for el in path_pairs if len(el[0]) == 1]"
   ]
  },
  {
   "cell_type": "code",
   "execution_count": 127,
   "metadata": {},
   "outputs": [
    {
     "data": {
      "text/plain": [
       "8814"
      ]
     },
     "execution_count": 127,
     "metadata": {},
     "output_type": "execute_result"
    }
   ],
   "source": [
    "len(path_pairs_1)"
   ]
  },
  {
   "cell_type": "code",
   "execution_count": 124,
   "metadata": {},
   "outputs": [],
   "source": [
    "with open('path_pairs.csv', 'w') as out:\n",
    "    for el in path_pairs_1:\n",
    "        out.write(f'{el[0][0]}\\t{\"->\".join(el[1])}\\n')"
   ]
  },
  {
   "cell_type": "code",
   "execution_count": 157,
   "metadata": {},
   "outputs": [
    {
     "name": "stdout",
     "output_type": "stream",
     "text": [
      "{\n",
      "  \"path_en\": \"flat_down\",\n",
      "  \"path_fr\": \"flat:name_down\",\n",
      "  \"count\": 83,\n",
      "  \"examples\": [\n",
      "    [\n",
      "      \"Joe->Sternlieb\",\n",
      "      \"Joe->Sternlieb\",\n",
      "      \"“We face a lot of competition, and we think transit can help,” said Joe Sternlieb, president of the Georgetown BID.\",\n",
      "      \"« Nous sommes confrontés à une forte concurrence, et nous pensons que les transports pourront aider » a déclaré Joe Sternlieb, le président du centre des affaires de Georgetown.\",\n",
      "      14\n",
      "    ],\n",
      "    [\n",
      "      \"Mr->Panvalkar\",\n",
      "      \"M.->Panvalkar\",\n",
      "      \"There was a time, Mr Panvalkar said, when he felt that they should leave the building.\",\n",
      "      \"M. Panvalkar a dit qu'à un moment donné, il a senti qu'ils devraient quitter l'immeuble.\",\n",
      "      21\n",
      "    ],\n",
      "    [\n",
      "      \"Andre->Price\",\n",
      "      \"Andre->Price\",\n",
      "      \"She killed Andre Price III by pressing his face into an air mattress in her sitting room before trying to do the same to her daughter, Angel, police said.\",\n",
      "      \"La police a indiqué qu'elle avait tué Andre Price III en lui enfonçant le visage dans un matelas pneumatique situé dans sa salle de séjour avant de tenter de faire la même chose à sa fille, Angel.\",\n",
      "      23\n",
      "    ],\n",
      "    [\n",
      "      \"Mr->Osborne\",\n",
      "      \"M.->Osborne\",\n",
      "      \"Mr Osborne signed up with a US speakers agency after being sacked in July.\",\n",
      "      \"M. Osborne s'est inscrit à une agence de conférenciers après s'être fait virer en juillet.\",\n",
      "      26\n",
      "    ],\n",
      "    [\n",
      "      \"Michael->Fallon\",\n",
      "      \"Michael->Fallon\",\n",
      "      \"Michael Fallon said the date for cutting the first steel would help secure new investment and safeguard hundreds of skilled jobs until 2035.\",\n",
      "      \"Michael Fallon a annoncé que la date de commencement des travaux aiderait à obtenir de nouveaux investissements et à garantir des centaines d'emplois qualifiés jusqu'en 2035.\",\n",
      "      27\n",
      "    ],\n",
      "    [\n",
      "      \"Jesse->LaBrocca\",\n",
      "      \"Jesse->LaBrocca\",\n",
      "      \"\\\"Unfortunately once again the few ruin it for the many,\\\" wrote Jesse LaBrocca, founder of Hack Forums, in a message explaining why the section was being closed.\",\n",
      "      \"Malheureusement, une fois de plus, une minorité gâche tout pour une majorité, écrit Jesse LaBrocca, fondateur de Hack Forums, dans son message justifiant la fermeture de la section.\",\n",
      "      45\n",
      "    ],\n",
      "    [\n",
      "      \"Erik->Solheim\",\n",
      "      \"Erik->Solheim\",\n",
      "      \"\\\"We are moving in the right direction: the Paris Agreement will slow climate change, as will the recent Kigali Amendment to reduce HFCs,\\\" said Erik Solheim, head of UN Environment.\",\n",
      "      \"Nous allons dans la bonne direction : l'Accord de Paris va ralentir le changement climatique, l'Amendement récent de Kigali va également réduire les HFC, a déclaré Erik Solheim, le responsable de l'Environnement à l'ONU.\",\n",
      "      50\n",
      "    ],\n",
      "    [\n",
      "      \"Ms->Pugh\",\n",
      "      \"Mme->Pugh\",\n",
      "      \"Ms Pugh has received treatment at Papworth and Addenbrooke's Hospitals in Cambridgeshire.\",\n",
      "      \"Mme Pugh a été traitée dans les hôpitaux de Papworth et Addenbrooke dans le Cambridgeshire.\",\n",
      "      82\n",
      "    ],\n",
      "    [\n",
      "      \"Ms->Pugh\",\n",
      "      \"Mme->Pugh\",\n",
      "      \"But a scan has shown the tumour in Ms Pugh's right lung is growing, and she has had to leave the trial.\",\n",
      "      \"Mais un scanner a montré que la tumeur dans le poumon droit de Mme Pugh grossit, et elle a dû quitter l'essai.\",\n",
      "      83\n",
      "    ],\n",
      "    [\n",
      "      \"Donald->Trump\",\n",
      "      \"Donald->Trump\",\n",
      "      \"\\\"If Donald Trump becomes president, the government here will still have to work with him to advance whatever shared agenda there is, to ensure that Canadian businesses and interests are represented in Washington.\\\"\",\n",
      "      \"Si Donald Trump devient président, le gouvernement d'ici devra quand même travailler avec lui pour faire avancer tout programme commun, afin de garantir que les entreprises et intérêts canadiens soient représentés à Washington.\",\n",
      "      84\n",
      "    ],\n",
      "    [\n",
      "      \"Melania->Trump\",\n",
      "      \"Melania->Trump\",\n",
      "      \"Trump's wife, Melania Trump, made her first appearance on the trail since the Republican convention in July.\",\n",
      "      \"La femme de Trump, Melania Trump, a fait sa première apparition depuis la convention républicaine de juillet.\",\n",
      "      98\n",
      "    ],\n",
      "    [\n",
      "      \"Gerry->McNeilly\",\n",
      "      \"Gerry->McNeilly\",\n",
      "      \"The Ontario Independent Police Review Director, Gerry McNeilly, set the terms for his review this week after \\\"alarming questions\\\" were raised about how officers interact with Indigenous peoples.\",\n",
      "      \"Cette semaine, Gerry McNeilly, le directeur indépendant de l'examen de la police d'Ontario, a présenté les bases de son rapport après que des « questions inquiétantes » aient été posées sur la façon dont les agents se comportent avec les indigènes.\",\n",
      "      102\n",
      "    ],\n",
      "    [\n",
      "      \"Margaret->Boemer\",\n",
      "      \"Margaret->Boemer\",\n",
      "      \"What started as a routine ultrasound became complicated when expectant mother Margaret Boemer, of Plano, Texas, was told her unborn child had a rare condition and needed surgery to survive.\",\n",
      "      \"Ce qui avait commencé comme une écographie de routine s'est compliqué quand la future mère, Margaret Boemer, de Plano au Texas, a appris que le fœtus avait une maladie rare qui allait nécessiter une intervention.\",\n",
      "      123\n",
      "    ],\n",
      "    [\n",
      "      \"John->Di\",\n",
      "      \"John->Di\",\n",
      "      \"“When I’m playing him, I feel powerful,” the Donald Trump impersonator John Di Domenico explained to Slate last year.\",\n",
      "      \"« Quand je joue son rôle, je me sens puissant, » a expliqué John Di Domenico, l'imitateur de Donald Trump, à Slate l'année dernière.\",\n",
      "      147\n",
      "    ],\n",
      "    [\n",
      "      \"John->Domenico\",\n",
      "      \"John->Domenico\",\n",
      "      \"“When I’m playing him, I feel powerful,” the Donald Trump impersonator John Di Domenico explained to Slate last year.\",\n",
      "      \"« Quand je joue son rôle, je me sens puissant, » a expliqué John Di Domenico, l'imitateur de Donald Trump, à Slate l'année dernière.\",\n",
      "      147\n",
      "    ],\n",
      "    [\n",
      "      \"Donald->Trump\",\n",
      "      \"Donald->Trump\",\n",
      "      \"“When I’m playing him, I feel powerful,” the Donald Trump impersonator John Di Domenico explained to Slate last year.\",\n",
      "      \"« Quand je joue son rôle, je me sens puissant, » a expliqué John Di Domenico, l'imitateur de Donald Trump, à Slate l'année dernière.\",\n",
      "      147\n",
      "    ],\n",
      "    [\n",
      "      \"Christian->Wolmar\",\n",
      "      \"Christian->Wolmar\",\n",
      "      \"Christian Wolmar, who has written a number of books on railway history, will stand in the contest on 1 December.\",\n",
      "      \"Christian Wolmar, qui a écrit une série d'ouvrages sur l'histoire ferroviaire, entrera dans la compétition le premier décembre.\",\n",
      "      166\n",
      "    ],\n",
      "    [\n",
      "      \"Sarah->Olney\",\n",
      "      \"Sarah->Olney\",\n",
      "      \"The Liberal Democrats, who represented the affluent suburb until 2010, are hoping to snatch it back with their candidate Sarah Olney.\",\n",
      "      \"Les démocrates libéraux, qui représentaient le quartier opulent jusqu'en 2010, espèrent le récupérer avec leur candidate Sarah Olney.\",\n",
      "      167\n",
      "    ],\n",
      "    [\n",
      "      \"Donald->Trump\",\n",
      "      \"Donald->Trump\",\n",
      "      \"A Donald Trump victory would immediately make the world more worrying and unsettled than it already is.\",\n",
      "      \"La victoire de Donald Trump aurait l'effet immédiat de rendre ce monde plus inquiétant et incertain qu'il ne l'est déjà.\",\n",
      "      186\n",
      "    ],\n",
      "    [\n",
      "      \"Mrs->Clinton\",\n",
      "      \"Mme->Clinton\",\n",
      "      \"Mrs Clinton has a reputation for a hawkish outlook, but this will be tempered by war-weary public opinion in the US.\",\n",
      "      \"Mme Clinton a la réputation d'une va-t-en-guerre, mais cela va être modéré par le point de vue anti-guerre de la population.\",\n",
      "      187\n",
      "    ],\n",
      "    [\n",
      "      \"Donald->Trump\",\n",
      "      \"Donald->Trump\",\n",
      "      \"We can’t let the presidency go to Donald Trump, someone so racist, sexist and incredibly unqualified to be commander-in-chief.\",\n",
      "      \"On ne peut pas laisser Donald Trump devenir président, quelqu'un de si raciste, sexiste et incroyablement inapte à être commandant en chef.\",\n",
      "      197\n",
      "    ],\n",
      "    [\n",
      "      \"Rocco->Catalano\",\n",
      "      \"Rocco->Catalano\",\n",
      "      \"It’s fair to say that Rocco Catalano works, lives and breathes retro.\",\n",
      "      \"Je crois qu’il est juste de dire que Rocco Catalano ne vit que pour le style rétro.\",\n",
      "      211\n",
      "    ],\n",
      "    [\n",
      "      \"Jeff->Knott\",\n",
      "      \"Jeff->Knott\",\n",
      "      \"Their head of nature policy, Jeff Knott, stated: “I’d be amazed if either a ban or licensing was introduced off the back of it”.\",\n",
      "      \"Selon Jeff Knott, responsable de la politique en matière de la protection de la nature : « Je serais étonné de voir que, par conséquence, une interdiction ou bien un octroi de permis soient introduits ».\",\n",
      "      222\n",
      "    ],\n",
      "    [\n",
      "      \"Mark->Avery\",\n",
      "      \"Mark->Avery\",\n",
      "      \"The RSPB’s stance has also brought it into conflict with many leading conservationists, from the author of the petition, Mark Avery, to the TV presenter Chris Packham.\",\n",
      "      \"La position adoptée par la RSPB a également crée des conflits avec plusieurs acteurs de premier plan dans le domaine de la conservation environnementale, dont Mark Avery, l’auteur de la pétition, et Chris Packam, présentateur de télévision.\",\n",
      "      223\n",
      "    ],\n",
      "    [\n",
      "      \"Chris->Packham\",\n",
      "      \"Chris->Packam\",\n",
      "      \"The RSPB’s stance has also brought it into conflict with many leading conservationists, from the author of the petition, Mark Avery, to the TV presenter Chris Packham.\",\n",
      "      \"La position adoptée par la RSPB a également crée des conflits avec plusieurs acteurs de premier plan dans le domaine de la conservation environnementale, dont Mark Avery, l’auteur de la pétition, et Chris Packam, présentateur de télévision.\",\n",
      "      223\n",
      "    ],\n",
      "    [\n",
      "      \"Dr->Lee\",\n",
      "      \"Dr->Lee\",\n",
      "      \"“Agora was invitation-only but many of these marketplaces are easily accessible if you know how to search,” Dr Lee adds.\",\n",
      "      \"« Agora s’est fait uniquement sur invitation, mais nombre de ces marchés sont facilement accessibles si vous savez quoi rechercher », précise le Dr Lee.\",\n",
      "      232\n",
      "    ],\n",
      "    [\n",
      "      \"Andrew->Marr\",\n",
      "      \"Andrew->Marr\",\n",
      "      \"He told the BBC’s Andrew Marr Show: “A general election is frankly the last thing that the Government wants.”\",\n",
      "      \"« Franchement, une élection générale est la dernière chose que voudrait le gouvernement », a-t-il expliqué dans l’émission de la BBC, The Andrew Marr Show.\",\n",
      "      251\n",
      "    ],\n",
      "    [\n",
      "      \"Benoît->Paire\",\n",
      "      \"Benoît->Paire\",\n",
      "      \"That was definitely the case for Andy when he played Benoît Paire in Monte Carlo in April.\",\n",
      "      \"Ce fut certainement le cas pour Andy quand il a joué contre Benoît Paire à Monte Carlo en avril.\",\n",
      "      255\n",
      "    ],\n",
      "    [\n",
      "      \"Donald->Trump\",\n",
      "      \"Donald->Trump\",\n",
      "      \"Donald Trump is a pompous, arrogant, entitled person that cares about himself, and his temperament is toxic to the United States.\",\n",
      "      \"Donald Trump est un homme arrogant et pompeux, avec une attitude indiquant que tout lui est dû ; son tempérament est néfaste aux États-Unis.\",\n",
      "      322\n",
      "    ],\n",
      "    [\n",
      "      \"Jeffrey->Dean\",\n",
      "      \"Jeffery->Dean\",\n",
      "      \"As one of Negan's (Jeffrey Dean Morgan) top guys, he's afforded certain freedoms.\",\n",
      "      \"On lui a conféré quelques droits car il est un des hommes très haut placés de Negan (Jeffery Dean Morgan).\",\n",
      "      339\n",
      "    ],\n",
      "    [\n",
      "      \"Jeffrey->Morgan\",\n",
      "      \"Jeffery->Morgan\",\n",
      "      \"As one of Negan's (Jeffrey Dean Morgan) top guys, he's afforded certain freedoms.\",\n",
      "      \"On lui a conféré quelques droits car il est un des hommes très haut placés de Negan (Jeffery Dean Morgan).\",\n",
      "      339\n",
      "    ],\n",
      "    [\n",
      "      \"Johnny->Carson\",\n",
      "      \"Johnny->Carson\",\n",
      "      \"\\\"Snowman didn't think anything of Johnny Carson getting a step ladder and sitting back to front on him,\\\" he adds.\",\n",
      "      \"Snowman n'a pas été étonné quand Johnny Carson est allé chercher un escabeau et s’est assis le dos tourné, dit-il.\",\n",
      "      356\n",
      "    ],\n",
      "    [\n",
      "      \"Alejandra->González\",\n",
      "      \"Alejandra->González\",\n",
      "      \"Alejandra González Anaya, one of the parade's creative directors, explained to CNN why Mexico have decided now is the time to put on such a show.\",\n",
      "      \"Alejandra González Anaya, l’une des directrices artistiques du défilé, a expliqué à CNN pourquoi le Mexique avait décidé qu’il était temps d’organiser un tel spectacle.\",\n",
      "      360\n",
      "    ],\n",
      "    [\n",
      "      \"Alejandra->Anaya\",\n",
      "      \"Alejandra->Anaya\",\n",
      "      \"Alejandra González Anaya, one of the parade's creative directors, explained to CNN why Mexico have decided now is the time to put on such a show.\",\n",
      "      \"Alejandra González Anaya, l’une des directrices artistiques du défilé, a expliqué à CNN pourquoi le Mexique avait décidé qu’il était temps d’organiser un tel spectacle.\",\n",
      "      360\n",
      "    ],\n",
      "    [\n",
      "      \"González->Anaya\",\n",
      "      \"Gonzáles->Anaya\",\n",
      "      \"\\\"There are 1200 volunteers working for the parade alone,\\\" González Anaya says.\",\n",
      "      \"Il y a 1200 volontaires qui travaillent uniquement pour le défilé, déclare Gonzáles Anaya.\",\n",
      "      361\n",
      "    ],\n",
      "    [\n",
      "      \"Juan->Carlos\",\n",
      "      \"Juan->Carlos\",\n",
      "      \"Designed by Juan Carlos Salas, the award-winning building has a sculptural appearance and every detail carries meaning.\",\n",
      "      \"Conçu par Juan Carlos Salas, ce bâtiment primé bénéficie d’un aspect sculptural et chaque détail est porteur de sens.\",\n",
      "      374\n",
      "    ],\n",
      "    [\n",
      "      \"Juan->Salas\",\n",
      "      \"Juan->Salas\",\n",
      "      \"Designed by Juan Carlos Salas, the award-winning building has a sculptural appearance and every detail carries meaning.\",\n",
      "      \"Conçu par Juan Carlos Salas, ce bâtiment primé bénéficie d’un aspect sculptural et chaque détail est porteur de sens.\",\n",
      "      374\n",
      "    ],\n",
      "    [\n",
      "      \"Yannis->Smaragdis\",\n",
      "      \"Yannis->Smaragdis\",\n",
      "      \"In 2007 the most successful film was El Greco, directed by Yannis Smaragdis.\",\n",
      "      \"Le film au plus grand succès de 2007 fut El Greco, réalisé par Yannis Smaragdis.\",\n",
      "      390\n",
      "    ],\n",
      "    [\n",
      "      \"St.->Rastislav\",\n",
      "      \"Saint->Rastislav\",\n",
      "      \"Louis the German invaded Moravia and replaced Mojmír I with his nephew Rastiz who became St. Rastislav.\",\n",
      "      \"Louis II de Bavière envahit la Moravie et remplaça Mojmír par son neveu Rastiz, devenu Saint Rastislav.\",\n",
      "      403\n",
      "    ],\n",
      "    [\n",
      "      \"Thomas->Lincoln\",\n",
      "      \"Thomas->Lincoln\",\n",
      "      \"During the family's years in Kentucky and Indiana, Thomas Lincoln worked as a farmer, cabinetmaker, and carpenter.\",\n",
      "      \"Pendant les années que sa famille a passées dans le Kentucky et l'Indiana, Thomas Lincoln a travaillé comme fermier, ébéniste et charpentier.\",\n",
      "      458\n",
      "    ],\n",
      "    [\n",
      "      \"Christopher->Columbus\",\n",
      "      \"Christophe->Colomb\",\n",
      "      \"Christopher Columbus sailed across the Atlantic Ocean to the West Indies in 1492, sparking a period of European exploration of the Americas.\",\n",
      "      \"Christophe Colomb traversa l'Atlantique en direction des Antilles en 1492, suscitant une vague d'exploration européenne des Amériques.\",\n",
      "      467\n",
      "    ],\n",
      "    [\n",
      "      \"Sallyanne->Atkinson\",\n",
      "      \"Sallyanne->Atkinson\",\n",
      "      \"1987 was proclaimed the \\\"Year of the River\\\" by the Lord Mayor of Brisbane at the time, Sallyanne Atkinson.\",\n",
      "      \"L'année 1987 fut proclamée « Année du Fleuve » par la Lord Mayor de Brisbane de l'époque, Sallyanne Atkinson.\",\n",
      "      474\n",
      "    ],\n",
      "    [\n",
      "      \"Christopher->Columbus\",\n",
      "      \"Christophe->Colomb\",\n",
      "      \"After the discovery of America by Christopher Columbus in 1492, the Spanish term Antillas applied to the lands; stemming from this, \\\"Sea of the Antilles\\\" became a common alternative name for \\\"Caribbean Sea\\\" in various European languages.\",\n",
      "      \"Après la découverte de l'Amérique par Christophe Colomb en 1492, le terme espagnol « Antilles » fut employé pour nommer ces terres ; en conséquence, l'expression « mer des Antilles », à la place de mer des Caraïbes, devint courante dans plusieurs langues européennes.\",\n",
      "      486\n",
      "    ],\n",
      "    [\n",
      "      \"Christopher->Columbus\",\n",
      "      \"Christophe->Colomb\",\n",
      "      \"The Caribbean Sea had been unknown to the populations of Eurasia until 1492, when Christopher Columbus first sailed into Caribbean waters on a quest to find a sea route to Asia.\",\n",
      "      \"La mer des Caraïbes était inconnue des populations eurasiennes jusqu'en 1492, année où Christophe Colomb navigua les eaux des Caraïbes dans le but de trouver une route maritime jusqu'à l'Asie.\",\n",
      "      489\n",
      "    ],\n",
      "    [\n",
      "      \"Bogd->Khaan\",\n",
      "      \"Bogdo->Khan\",\n",
      "      \"With the fall of the Qing dynasty in 1911, Mongolia under the Bogd Khaan declared independence.\",\n",
      "      \"Suivant la chute de la dynastie Qing en 1911, la Mongolie, dirigée par le Bogdo Khan, proclama son indépendance.\",\n",
      "      501\n",
      "    ],\n",
      "    [\n",
      "      \"Yuan->Shikai\",\n",
      "      \"Yuan->Shikai\",\n",
      "      \"Yuan Shikai, the President of the Republic of China, considered the new republic to be the successor of the Qing.\",\n",
      "      \"Yuan Shikai, le président de la République de Chine, considérait la nouvelle république comme l'héritière de la dynastie Qing.\",\n",
      "      503\n",
      "    ],\n",
      "    [\n",
      "      \"Bogd->Khaan\",\n",
      "      \"Bogdo->Khan\",\n",
      "      \"Bogd Khaan said that both Mongolia and China had been administered by the Manchu during the Qing, and after the fall of the Qing dynasty in 1911, the contract of Mongolian submission to the Manchu had become invalid.\",\n",
      "      \"Le Bogdo Khan déclara que la Mongolie et la Chine avaient été dirigées par les Manchu lorsque les Qing étaient au pouvoir, et qu'après la chute de la dynastie Qing en 1911, le contrat de soumission des Mongols aux Manchu était rompu et nul.\",\n",
      "      504\n",
      "    ],\n",
      "    [\n",
      "      \"Bogd->Khaan\",\n",
      "      \"Bogdo->Khan\",\n",
      "      \"The area controlled by the Bogd Khaan was approximately that of the former Outer Mongolia during the Qing period.\",\n",
      "      \"La zone sous le contrôle du Bogdo Khan correspondait à peu près à celle de l'ancienne Mongolie-Extérieure.\",\n",
      "      505\n",
      "    ],\n",
      "    [\n",
      "      \"James->Henry\",\n",
      "      \"James->Henry\",\n",
      "      \"Indeed, the first scholarly report on the battle, by James Henry Breasted in 1903, praised the sources that allowed the reconstruction the battle with certainty.\",\n",
      "      \"En effet, la première étude académique de la bataille, écrite en 1903 par James Henry Breasted, faisait l'éloge des sources qui avaient permis de reconstituer la bataille avec certitude.\",\n",
      "      507\n",
      "    ],\n",
      "    [\n",
      "      \"James->Breasted\",\n",
      "      \"James->Breasted\",\n",
      "      \"Indeed, the first scholarly report on the battle, by James Henry Breasted in 1903, praised the sources that allowed the reconstruction the battle with certainty.\",\n",
      "      \"En effet, la première étude académique de la bataille, écrite en 1903 par James Henry Breasted, faisait l'éloge des sources qui avaient permis de reconstituer la bataille avec certitude.\",\n",
      "      507\n",
      "    ],\n",
      "    [\n",
      "      \"Herod->Antipas\",\n",
      "      \"Hérode->Antipas\",\n",
      "      \"The exact year of the marriage of Herod Antipas and Herodias is subject to debate among scholars.\",\n",
      "      \"L'année exacte du mariage entre Hérode Antipas et Hérodias fait l'objet de débats parmi les chercheurs.\",\n",
      "      511\n",
      "    ],\n",
      "    [\n",
      "      \"Wang->Anshi\",\n",
      "      \"Wang->Anshi\",\n",
      "      \"Shen Kuo soon impressed Wang Anshi with his skills and abilities as an administrator and government agent.\",\n",
      "      \"Wang Anshi fut rapidement impressionné par les talents d'administrateur et de gouverneur de Shen Kuo.\",\n",
      "      523\n",
      "    ],\n",
      "    [\n",
      "      \"Shen->Kuo\",\n",
      "      \"Shen->Kuo\",\n",
      "      \"Shen Kuo soon impressed Wang Anshi with his skills and abilities as an administrator and government agent.\",\n",
      "      \"Wang Anshi fut rapidement impressionné par les talents d'administrateur et de gouverneur de Shen Kuo.\",\n",
      "      523\n",
      "    ],\n",
      "    [\n",
      "      \"Florence->Garrard\",\n",
      "      \"Florence->Garrard\",\n",
      "      \"During his time there, Kipling also met and fell in love with Florence Garrard who was boarding with Trix at Southsea (to which Trix had returned).\",\n",
      "      \"A cette époque-là, Kipling rencontra également Florence Garrard, dont il tomba amoureux, qui vivait avec Trix à Southsea (où cette dernière était revenue).\",\n",
      "      563\n",
      "    ],\n",
      "    [\n",
      "      \"Stephen->Wheeler\",\n",
      "      \"Stephen->Wheeler\",\n",
      "      \"Stephen Wheeler, the editor, worked Kipling hard, but Kipling's need to write was unstoppable.\",\n",
      "      \"Stephen Wheeler, son éditeur, était exigeant mais le besoin d'écrire de Kipling était irrépressible.\",\n",
      "      564\n",
      "    ],\n",
      "    [\n",
      "      \"Lin->Zexu\",\n",
      "      \"Lin->Zexu\",\n",
      "      \"In 1839, China found itself fighting the First Opium War with Great Britain after the Governor-General of Hunan and Hubei, Lin Zexu, banned the foreign trade of opium.\",\n",
      "      \"En 1839, la Chine se retrouva dans la lutte contre la première guerre de l'opium avec la Grande-Bretagne après que le gouverneur général du Hunan et du Hubei, Lin Zexu, eut interdit le commerce extérieur de l'opium.\",\n",
      "      623\n",
      "    ],\n",
      "    [\n",
      "      \"Hong->Kong\",\n",
      "      \"Hong->Kong\",\n",
      "      \"Hong Kong Island was ceded to Britain, and certain ports, including Shanghai and Guangzhou, were opened to British trade and residence.\",\n",
      "      \"L'île de Hong Kong a été cédée à la Grande-Bretagne, et certains ports, y compris ceux de Shanghai et Guangzhou, ont été ouverts au commerce et à la résidence britannique.\",\n",
      "      625\n",
      "    ],\n",
      "    [\n",
      "      \"Joseph->Darnand\",\n",
      "      \"Joseph->Darnand\",\n",
      "      \"Joseph Darnand, who became an SS officer and led the Milice paramilitaries who hunted down members of the Resistance, was executed in October 1945.\",\n",
      "      \"Joseph Darnand, officier honoraire de la SS et dirigeant des milices paramilitaires qui ont chassé les membres de la Résistance, a été exécuté en octobre 1945.\",\n",
      "      631\n",
      "    ],\n",
      "    [\n",
      "      \"Bill->Gold\",\n",
      "      \"Bill->Gold\",\n",
      "      \"Hitchcock preferred to work with the best talent of his day—film poster designers such as Bill Gold and Saul Bass—who would produce posters that accurately represented his films.\",\n",
      "      \"Alfred Hitchcock préférait travailler avec les meilleurs créateurs d'affiches tels que Bill Gold et Saul Bass, qui étaient capables de produire des affiches représentant fidèlement ses films.\",\n",
      "      644\n",
      "    ],\n",
      "    [\n",
      "      \"Saul->Bass\",\n",
      "      \"Saul->Bass\",\n",
      "      \"Hitchcock preferred to work with the best talent of his day—film poster designers such as Bill Gold and Saul Bass—who would produce posters that accurately represented his films.\",\n",
      "      \"Alfred Hitchcock préférait travailler avec les meilleurs créateurs d'affiches tels que Bill Gold et Saul Bass, qui étaient capables de produire des affiches représentant fidèlement ses films.\",\n",
      "      644\n",
      "    ],\n",
      "    [\n",
      "      \"Prabowo->Subianto\",\n",
      "      \"Prabowo->Subianto\",\n",
      "      \"However, his rival Prabowo Subianto also declared victory, leaving Indonesian citizens confused.\",\n",
      "      \"Cependant, son rival Prabowo Subianto a également déclaré la victoire, laissant les citoyens indonésiens confus.\",\n",
      "      657\n",
      "    ],\n",
      "    [\n",
      "      \"Margaret->Douglas\",\n",
      "      \"Margaret->Douglas\",\n",
      "      \"Her latest non-fiction is about Margaret Douglas, Countess of Lennox.\",\n",
      "      \"Son dernier livre de non-fiction est à propos de Margaret Douglas, la comtesse Lennox.\",\n",
      "      669\n",
      "    ],\n",
      "    [\n",
      "      \"Anne->Horton\",\n",
      "      \"Anne->Horton\",\n",
      "      \"In 1770, his brother Prince Henry, Duke of Cumberland and Strathearn, was exposed as an adulterer, and the following year Cumberland married a young widow, Anne Horton.\",\n",
      "      \"En 1770, son frère le Prince Henry, duc de Cumberland et Strathearn, fut accusé d’adultère, et il épousa l’année suivante Anne Horton, une jeune veuve.\",\n",
      "      683\n",
      "    ],\n",
      "    [\n",
      "      \"Hugh->Murphy\",\n",
      "      \"Hugh->Murphy\",\n",
      "      \"These were the last two records Rafferty produced with Hugh Murphy, who died in 1998.\",\n",
      "      \"Il s'agit des deux derniers enregistrements réalisés par Gerry Rafferty avec Hugh Murphy ; ce dernier est décédé en 1998.\",\n",
      "      695\n",
      "    ],\n",
      "    [\n",
      "      \"Tokugawa->Ieyasu\",\n",
      "      \"Tokugawa->Ieyasu\",\n",
      "      \"Through his grandmother, Mishima was a direct descendant of Tokugawa Ieyasu.\",\n",
      "      \"Mishima était un descendant direct de Tokugawa Ieyasu, par sa grand-mère.\",\n",
      "      703\n",
      "    ],\n",
      "    [\n",
      "      \"Yves->Saint\",\n",
      "      \"Yves->Saint\",\n",
      "      \"In 2011, Blunt was named the ambassadress of the new Yves Saint Laurent fragrance, Opium.\",\n",
      "      \"En 2011, Emily Blunt a été nommée égérie du nouveau parfum Opium d’Yves Saint Laurent.\",\n",
      "      706\n",
      "    ],\n",
      "    [\n",
      "      \"Lasse->Hallström\",\n",
      "      \"Lasse->Hallström\",\n",
      "      \"Blunt starred in the 2011 British comedy film Salmon Fishing in the Yemen, directed by Lasse Hallström and co-starring Ewan McGregor and Kristin Scott Thomas.\",\n",
      "      \"Emily Blunt a joué dans la comédie britannique dirigée par Lasse Hallström, « Des saumons dans le désert » (2011), avec Ewan McGregor et Kristin Scott Thomas.\",\n",
      "      707\n",
      "    ],\n",
      "    [\n",
      "      \"Ewan->McGregor\",\n",
      "      \"Ewan->McGregor\",\n",
      "      \"Blunt starred in the 2011 British comedy film Salmon Fishing in the Yemen, directed by Lasse Hallström and co-starring Ewan McGregor and Kristin Scott Thomas.\",\n",
      "      \"Emily Blunt a joué dans la comédie britannique dirigée par Lasse Hallström, « Des saumons dans le désert » (2011), avec Ewan McGregor et Kristin Scott Thomas.\",\n",
      "      707\n",
      "    ],\n",
      "    [\n",
      "      \"Kristin->Scott\",\n",
      "      \"Kristin->Scott\",\n",
      "      \"Blunt starred in the 2011 British comedy film Salmon Fishing in the Yemen, directed by Lasse Hallström and co-starring Ewan McGregor and Kristin Scott Thomas.\",\n",
      "      \"Emily Blunt a joué dans la comédie britannique dirigée par Lasse Hallström, « Des saumons dans le désert » (2011), avec Ewan McGregor et Kristin Scott Thomas.\",\n",
      "      707\n",
      "    ],\n",
      "    [\n",
      "      \"Kristin->Thomas\",\n",
      "      \"Kristin->Thomas\",\n",
      "      \"Blunt starred in the 2011 British comedy film Salmon Fishing in the Yemen, directed by Lasse Hallström and co-starring Ewan McGregor and Kristin Scott Thomas.\",\n",
      "      \"Emily Blunt a joué dans la comédie britannique dirigée par Lasse Hallström, « Des saumons dans le désert » (2011), avec Ewan McGregor et Kristin Scott Thomas.\",\n",
      "      707\n",
      "    ],\n",
      "    [\n",
      "      \"Jason->Segel\",\n",
      "      \"Jason->Segel\",\n",
      "      \"She starred in the 2012 film The Five-Year Engagement, directed by Nicholas Stoller and co-starring Jason Segel.\",\n",
      "      \"Elle a joué dans le film 5 ans de Réflexion, avec sa co-vedette Jason Segel, réalisé par Nicholas Stoller en 2012.\",\n",
      "      709\n",
      "    ],\n",
      "    [\n",
      "      \"Nicholas->Stoller\",\n",
      "      \"Nicholas->Stoller\",\n",
      "      \"She starred in the 2012 film The Five-Year Engagement, directed by Nicholas Stoller and co-starring Jason Segel.\",\n",
      "      \"Elle a joué dans le film 5 ans de Réflexion, avec sa co-vedette Jason Segel, réalisé par Nicholas Stoller en 2012.\",\n",
      "      709\n",
      "    ],\n",
      "    [\n",
      "      \"Rian->Johnson\",\n",
      "      \"Rian->Johnson\",\n",
      "      \"In January 2011, Blunt began filming an American science-fiction film, Looper, directed by Rian Johnson and co-starring Bruce Willis and Joseph Gordon-Levitt; the film was released in September 2012.\",\n",
      "      \"En janvier 2011, Emily Blunt a tenu le premier rôle du film Looper, face à Joseph Gordon-Levitt et Bruce Willis ; c’est un film de science-fiction américain, réalisé par Rian Johnson, sorti en septembre 2012.\",\n",
      "      710\n",
      "    ],\n",
      "    [\n",
      "      \"Bruce->Willis\",\n",
      "      \"Bruce->Willis\",\n",
      "      \"In January 2011, Blunt began filming an American science-fiction film, Looper, directed by Rian Johnson and co-starring Bruce Willis and Joseph Gordon-Levitt; the film was released in September 2012.\",\n",
      "      \"En janvier 2011, Emily Blunt a tenu le premier rôle du film Looper, face à Joseph Gordon-Levitt et Bruce Willis ; c’est un film de science-fiction américain, réalisé par Rian Johnson, sorti en septembre 2012.\",\n",
      "      710\n",
      "    ],\n",
      "    [\n",
      "      \"Joseph->Schenck\",\n",
      "      \"Joseph->Schenck\",\n",
      "      \"Joseph Schenck was interested in casting his wife, Norma Talmadge, opposite Valentino in a version of Romeo and Juliet.\",\n",
      "      \"Joseph Schenck souhaitait que sa femme, Norma Talmadge, donne la réplique à Valentino dans une version de Romeo et Juliette.\",\n",
      "      712\n",
      "    ],\n",
      "    [\n",
      "      \"Norma->Talmadge\",\n",
      "      \"Norma->Talmadge\",\n",
      "      \"Joseph Schenck was interested in casting his wife, Norma Talmadge, opposite Valentino in a version of Romeo and Juliet.\",\n",
      "      \"Joseph Schenck souhaitait que sa femme, Norma Talmadge, donne la réplique à Valentino dans une version de Romeo et Juliette.\",\n",
      "      712\n",
      "    ],\n",
      "    [\n",
      "      \"Hans->Pettersson\",\n",
      "      \"Hans->Pettersson\",\n",
      "      \"Once Hans Pettersson was able to secure funds to pay Rona's expenses, Joliot-Curie allowed her to come and study polonium separation at the Curie Institute in Paris.\",\n",
      "      \"Une fois que Hans Pettersson a pu obtenir des fonds pour payer les dépenses d’Elizabeth Rona, Joliot-Curie lui a donné l’accord pour venir étudier la séparation du polonium à l'Institut Curie à Paris\",\n",
      "      720\n",
      "    ],\n",
      "    [\n",
      "      \"Richard->Plantagenet\",\n",
      "      \"Richard->Plantagenet\",\n",
      "      \"When their daughter Cecily married Richard Plantagenet, the 3rd Duke of York, and had several offspring, including Edward IV and Richard III, Joan became the grandmother of two York kings of England.\",\n",
      "      \"Lorsque leur fille Cécile Neville épousa Richard Plantagenet, le troisième duc d'York, ils eurent plusieurs enfants, dont Edward IV et Richard III, Joan Beaufort est devenue la grand-mère de deux rois d'York.\",\n",
      "      727\n",
      "    ],\n",
      "    [\n",
      "      \"Gloria->Holden\",\n",
      "      \"Gloria->Holden\",\n",
      "      \"Not long ago he was divorced from the actress, Gloria Holden, but carried the torch after the marital rift.\",\n",
      "      \"Il n'y a pas si longtemps, il était divorcé de l'actrice Gloria Holden, mais après la rupture il a voulu reprendre le flambeau.\",\n",
      "      730\n",
      "    ],\n",
      "    [\n",
      "      \"Humphrey->Bogart\",\n",
      "      \"Humphrey->Bogart\",\n",
      "      \"He co-starred as Humphrey Bogart's younger brother, a carefree playboy, in Sabrina (1954), played by Audrey Hepburn.\",\n",
      "      \"Il a joué le rôle du frère cadet d’Humphrey Bogart dans « Sabrina » (1954), un jeune garçon qui ne se soucie de rien et qui trompe les femmes, face à l’actrice principale Audrey Hepburn.\",\n",
      "      731\n",
      "    ],\n",
      "    [\n",
      "      \"Audrey->Hepburn\",\n",
      "      \"Audrey->Hepburn\",\n",
      "      \"He co-starred as Humphrey Bogart's younger brother, a carefree playboy, in Sabrina (1954), played by Audrey Hepburn.\",\n",
      "      \"Il a joué le rôle du frère cadet d’Humphrey Bogart dans « Sabrina » (1954), un jeune garçon qui ne se soucie de rien et qui trompe les femmes, face à l’actrice principale Audrey Hepburn.\",\n",
      "      731\n",
      "    ],\n",
      "    [\n",
      "      \"David->Gamson\",\n",
      "      \"David->Gamson\",\n",
      "      \"Kesha and Pebe co-wrote the song \\\"Stephen\\\" together when Kesha was 16, Kesha then tracked down David Gamson, a producer that she admired, from Scritti Politti who agreed to produce the song.\",\n",
      "      \"Kesha a co-écrit avec Pebe, quand elle n'avait que 16 ans, la chanson « Stephen » ; ensuite, elle a contacté David Gamson, un producteur qu'elle admirait et qui faisait partie du groupe d'électropop Scritti Politti, qui a fini par accepter de produire la chanson.\",\n",
      "      740\n",
      "    ],\n",
      "    [\n",
      "      \"Scritti->Politti\",\n",
      "      \"Scritti->Politti\",\n",
      "      \"Kesha and Pebe co-wrote the song \\\"Stephen\\\" together when Kesha was 16, Kesha then tracked down David Gamson, a producer that she admired, from Scritti Politti who agreed to produce the song.\",\n",
      "      \"Kesha a co-écrit avec Pebe, quand elle n'avait que 16 ans, la chanson « Stephen » ; ensuite, elle a contacté David Gamson, un producteur qu'elle admirait et qui faisait partie du groupe d'électropop Scritti Politti, qui a fini par accepter de produire la chanson.\",\n",
      "      740\n",
      "    ]\n",
      "  ]\n",
      "}\n"
     ]
    }
   ],
   "source": [
    "for k in path_pairs:\n",
    "    print(json.dumps(path_pairs[key], ensure_ascii=False, indent=2))\n",
    "    break"
   ]
  },
  {
   "cell_type": "code",
   "execution_count": 159,
   "metadata": {},
   "outputs": [],
   "source": []
  },
  {
   "cell_type": "code",
   "execution_count": 163,
   "metadata": {},
   "outputs": [],
   "source": [
    "with open('path_divergences.json', 'w', encoding='utf-8') as out:\n",
    "    json.dump(path_pairs_sorted, out, ensure_ascii=False, indent=4)"
   ]
  },
  {
   "cell_type": "code",
   "execution_count": 166,
   "metadata": {},
   "outputs": [],
   "source": [
    "# Dump into csv with one example for each type\n",
    "with open('path_pairs_examples.csv', 'w', encoding='utf-8') as out:\n",
    "    out.write('\\t'.join(['PathEn',\n",
    "                        'PathFr',\n",
    "                        'Count',\n",
    "                        'ExampleWordsEn',\n",
    "                        'ExampleWordsFr',\n",
    "                        'ExampleSentenceEn',\n",
    "                        'ExampleSentenceFr',\n",
    "                        'SentenceID']) + '\\n')\n",
    "    for pp in path_pairs_sorted:\n",
    "        out.write(f\"{pp['path_en']}\\t{pp['path_fr']}\\t{pp['count']}\\t\" + '\\t'.join(str(el) for el in pp['examples'][0]) + '\\n')"
   ]
  },
  {
   "cell_type": "code",
   "execution_count": 95,
   "metadata": {},
   "outputs": [],
   "source": [
    "with open('en_fr_len_dep.csv', 'w') as out:\n",
    "    out.write('SourcePathLen,Dist\\n')\n",
    "    for i, spl in enumerate(source_path_lengths_l):\n",
    "        out.write(f'{spl}, {all_distances_l[i]}\\n')"
   ]
  },
  {
   "cell_type": "code",
   "execution_count": 102,
   "metadata": {},
   "outputs": [
    {
     "name": "stdout",
     "output_type": "stream",
     "text": [
      "291\n"
     ]
    }
   ],
   "source": [
    "en_ru = [r for r in cursor.execute('select * from `en-ru`')][:400]\n",
    "all_distances = []\n",
    "average_distances = []\n",
    "source_path_lengths_l = []\n",
    "all_distances_l = []\n",
    "for i, record in enumerate(en_ru):\n",
    "    en_n, en_g = conll2graph(record[2])\n",
    "    fr_n, fr_g = conll2graph(record[3])\n",
    "    alignment = record[4]\n",
    "    distances = []\n",
    "    for c in combs(alignment.split(), 2):\n",
    "        p, q = c\n",
    "        if 'X' in p + q:\n",
    "            continue\n",
    "        en1, fr1 = map(normalise_key, p.split('-'))\n",
    "        en2, fr2 = map(normalise_key, q.split('-'))\n",
    "        path_en = get_path(en1, en2, en_g)\n",
    "        path_fr = get_path(fr1, fr2, fr_g)\n",
    "        if not path_en or not path_fr:\n",
    "            dist = 0 # One-to-many alignment\n",
    "        else:\n",
    "            dist1 = iterative_levenshtein(path_en, path_fr)\n",
    "            dist2 = iterative_levenshtein(path_en, list(reversed(path_fr)))\n",
    "            dist = min(dist1, dist2)\n",
    "            source_path_lengths_l.append(len(path_en))\n",
    "            all_distances_l.append(dist)\n",
    "        distances.append(dist)\n",
    "        all_distances.append(dist)\n",
    "    try:\n",
    "        average_distances.append(sum(distances)/len(distances))\n",
    "    except ZeroDivisionError:\n",
    "        print(i+1)\n",
    "        \n",
    "# with open('en_ru_average_distances.dat', 'w') as out:\n",
    "#     out.write(','.join(str(el) for el in average_distances))\n",
    "# with open('en_ru_all_distances.dat', 'w') as out:\n",
    "#     out.write(','.join(str(el) for el in all_distances))"
   ]
  },
  {
   "cell_type": "code",
   "execution_count": 93,
   "metadata": {},
   "outputs": [],
   "source": [
    "with open('en_ru_len_dep.csv', 'w') as out:\n",
    "    out.write('SourcePathLen,Dist\\n')\n",
    "    for i, spl in enumerate(source_path_lengths_l):\n",
    "        out.write(f'{spl}, {all_distances_l[i]}\\n')"
   ]
  },
  {
   "cell_type": "code",
   "execution_count": 137,
   "metadata": {},
   "outputs": [
    {
     "data": {
      "text/plain": [
       "('“While much of the digital transition is unprecedented in the United States, the peaceful transition of power is not,” Obama special assistant Kori Schulman wrote in a blog post Monday.',\n",
       " \"« Alors que la plus grande partie de la transition numérique est sans précédent aux États-Unis, la transition sereine du pouvoir, elle, ne l'est pas,» a publié Kori Schulman, assistante spéciale d'Obama, dans un blog ce lundi.\")"
      ]
     },
     "execution_count": 137,
     "metadata": {},
     "output_type": "execute_result"
    }
   ],
   "source": [
    "extract_raw_sentences(en_fr[0])"
   ]
  },
  {
   "cell_type": "code",
   "execution_count": 130,
   "metadata": {},
   "outputs": [
    {
     "data": {
      "text/plain": [
       "\"# newdoc id = n01001\\n# sent_id = n01001011\\n# text = « Alors que la plus grande partie de la transition numérique est sans précédent aux États-Unis, la transition sereine du pouvoir, elle, ne l'est pas,» a publié Kori Schulman, assistante spéciale d'Obama, dans un blog ce lundi.\\n# text_en = “While much of the digital transition is unprecedented in the United States, the peaceful transition of power is not,” Obama special assistant Kori Schulman wrote in a blog post Monday.\\n1\\t«\\t_\\tPUNCT\\t``\\t_\\t29\\tpunct\\t_\\t_\\n2\\tAlors\\t_\\tADV\\tRB\\t_\\t12\\tmark\\t_\\t_\\n3\\tque\\t_\\tSCONJ\\tIN\\t_\\t2\\tfixed\\t_\\t_\\n4\\tla\\t_\\tDET\\tDT\\tGender=Fem|Number=Sing\\t7\\tdet\\t_\\t_\\n5\\tplus\\t_\\tADV\\tRBR\\t_\\t6\\tadvmod\\t_\\t_\\n6\\tgrande\\t_\\tADJ\\tJJ\\tGender=Fem|Number=Sing\\t7\\tamod\\t_\\t_\\n7\\tpartie\\t_\\tNOUN\\tNN\\tGender=Fem|Number=Sing\\t12\\tnsubj\\t_\\t_\\n8\\tde\\t_\\tADP\\tIN\\t_\\t10\\tcase\\t_\\t_\\n9\\tla\\t_\\tDET\\tDT\\tGender=Fem|Number=Sing\\t10\\tdet\\t_\\t_\\n10\\ttransition\\t_\\tNOUN\\tNN\\tGender=Fem|Number=Sing\\t7\\tnmod\\t_\\t_\\n11\\tnumérique\\t_\\tADJ\\tJJ\\tGender=Fem|Number=Sing\\t10\\tamod\\t_\\t_\\n12\\test\\t_\\tVERB\\tVBC\\tMood=Ind|Number=Sing|Person=3|Tense=Pres\\t29\\tadvcl\\t_\\t_\\n13\\tsans\\t_\\tADP\\tIN\\t_\\t14\\tcase\\t_\\t_\\n14\\tprécédent\\t_\\tNOUN\\tNN\\tGender=Masc|Number=Sing\\t12\\tobl\\t_\\t_\\n15-16\\taux\\t_\\t_\\t_\\t_\\t_\\t_\\t_\\t_\\n15\\tà\\tà\\tADP\\tINDT\\t_\\t17\\tcase\\t_\\t_\\n16\\tles\\tle\\tDET\\t_\\tGender=Masc|Number=Plur\\t17\\tdet\\t_\\t_\\n17\\tÉtats-Unis\\t_\\tPROPN\\tNN\\tGender=Masc|Number=Plur\\t12\\tobl\\t_\\tProper=True|SpaceAfter=No\\n18\\t,\\t_\\tPUNCT\\t,\\t_\\t12\\tpunct\\t_\\t_\\n19\\tla\\t_\\tDET\\tDT\\tGender=Fem|Number=Sing\\t20\\tdet\\t_\\t_\\n20\\ttransition\\t_\\tNOUN\\tNN\\tGender=Fem|Number=Sing\\t29\\tdislocated\\t_\\t_\\n21\\tsereine\\t_\\tADJ\\tJJ\\tGender=Fem|Number=Sing\\t20\\tamod\\t_\\t_\\n22-23\\tdu\\t_\\t_\\t_\\t_\\t_\\t_\\t_\\t_\\n22\\tde\\tde\\tADP\\tINDT\\t_\\t24\\tcase\\t_\\t_\\n23\\tle\\tle\\tDET\\t_\\tGender=Masc|Number=Sing\\t24\\tdet\\t_\\t_\\n24\\tpouvoir\\t_\\tNOUN\\tNN\\tGender=Masc|Number=Sing\\t20\\tnmod\\t_\\tSpaceAfter=No\\n25\\t,\\t_\\tPUNCT\\t,\\t_\\t26\\tpunct\\t_\\t_\\n26\\telle\\t_\\tPRON\\tPRP\\tGender=Fem|Number=Sing|Person=3\\t29\\tnsubj\\t_\\tSpaceAfter=No\\n27\\t,\\t_\\tPUNCT\\t,\\t_\\t26\\tpunct\\t_\\t_\\n28\\tne\\t_\\tADV\\tRB\\tPolarity=Neg\\t29\\tadvmod\\t_\\t_\\n29\\tl'\\t_\\tPRON\\tPRP\\tGender=Fem|Number=Sing|Person=3\\t35\\tparataxis\\t_\\tSpaceAfter=No\\n30\\test\\t_\\tAUX\\tVBC\\tMood=Ind|Number=Sing|Person=3|Tense=Pres\\t29\\tcop\\t_\\t_\\n31\\tpas\\t_\\tADV\\tRB\\tPolarity=Neg\\t29\\tadvmod\\t_\\tSpaceAfter=No\\n32\\t,\\t_\\tPUNCT\\t,\\t_\\t29\\tpunct\\t_\\tSpaceAfter=No\\n33\\t»\\t_\\tPUNCT\\t''\\t_\\t29\\tpunct\\t_\\t_\\n34\\ta\\t_\\tVERB\\tVBC\\tMood=Ind|Number=Sing|Person=3|Tense=Pres\\t35\\taux\\t_\\t_\\n35\\tpublié\\t_\\tVERB\\tVBN\\tGender=Masc|Number=Sing\\t0\\troot\\t_\\t_\\n36\\tKori\\t_\\tPROPN\\tNNP\\tGender=Fem|Number=Sing\\t35\\tnsubj\\t_\\t_\\n37\\tSchulman\\t_\\tPROPN\\tNNP\\tGender=Fem|Number=Sing\\t36\\tflat:name\\t_\\tSpaceAfter=No\\n38\\t,\\t_\\tPUNCT\\t,\\t_\\t39\\tpunct\\t_\\t_\\n39\\tassistante\\t_\\tNOUN\\tNN\\tGender=Fem|Number=Sing\\t36\\tappos\\t_\\t_\\n40\\tspéciale\\t_\\tADJ\\tJJ\\tGender=Fem|Number=Sing\\t39\\tamod\\t_\\t_\\n41\\td'\\t_\\tADP\\tIN\\t_\\t42\\tcase\\t_\\tSpaceAfter=No\\n42\\tObama\\t_\\tPROPN\\tNNP\\tGender=Masc|Number=Sing\\t39\\tnmod\\t_\\tSpaceAfter=No\\n43\\t,\\t_\\tPUNCT\\t,\\t_\\t39\\tpunct\\t_\\t_\\n44\\tdans\\t_\\tADP\\tIN\\t_\\t46\\tcase\\t_\\t_\\n45\\tun\\t_\\tDET\\tDT\\tGender=Masc|Number=Sing\\t46\\tdet\\t_\\t_\\n46\\tblog\\t_\\tNOUN\\tNN\\tGender=Masc|Number=Sing\\t35\\tobl\\t_\\t_\\n47\\tce\\t_\\tDET\\tDT\\tGender=Masc|Number=Sing\\t48\\tdet\\t_\\t_\\n48\\tlundi\\t_\\tNOUN\\tNNP\\tGender=Masc|Number=Sing\\t35\\tobl:tmod\\t_\\tSpaceAfter=No\\n49\\t.\\t_\\tPUNCT\\t.\\t_\\t35\\tpunct\\t_\\t_\""
      ]
     },
     "execution_count": 130,
     "metadata": {},
     "output_type": "execute_result"
    }
   ],
   "source": [
    "en_fr[0][3]"
   ]
  }
 ],
 "metadata": {
  "kernelspec": {
   "display_name": "Python 3",
   "language": "python",
   "name": "python3"
  },
  "language_info": {
   "codemirror_mode": {
    "name": "ipython",
    "version": 3
   },
   "file_extension": ".py",
   "mimetype": "text/x-python",
   "name": "python",
   "nbconvert_exporter": "python",
   "pygments_lexer": "ipython3",
   "version": "3.7.1"
  }
 },
 "nbformat": 4,
 "nbformat_minor": 2
}
