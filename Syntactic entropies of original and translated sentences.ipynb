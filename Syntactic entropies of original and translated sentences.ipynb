{
 "cells": [
  {
   "cell_type": "code",
   "execution_count": 14,
   "metadata": {},
   "outputs": [],
   "source": [
    "from collections import Counter\n",
    "from math import log2, floor, ceil\n",
    "from random import choice"
   ]
  },
  {
   "cell_type": "code",
   "execution_count": 15,
   "metadata": {},
   "outputs": [],
   "source": [
    "def entropies_for_corpus(blocks):\n",
    "    \"\"\"Returns POS entropy and edge-label entropy.\"\"\"\n",
    "    pos_counts = Counter()\n",
    "    edge_label_counts = Counter()\n",
    "    for b in blocks:\n",
    "        for l in b.splitlines():\n",
    "            if l.startswith('#'):\n",
    "                continue\n",
    "            fields = l.split('\\t')\n",
    "            pos = fields[3]\n",
    "            edge = fields[7]\n",
    "            if pos not in {'X', '_', 'PUNCT'}:\n",
    "                pos_counts[pos] += 1\n",
    "            if edge not in {'_', 'punct', 'root'}:\n",
    "                edge_label_counts[edge] += 1\n",
    "    pos_total = sum(pos_counts.values())\n",
    "    edge_total = sum(edge_label_counts.values())\n",
    "    pos_entropy = sum(\n",
    "        -1 * log2(count/pos_total) * count / pos_total for count in pos_counts.values()\n",
    "    )\n",
    "    edge_entropy = sum(\n",
    "        -1 * log2(count/edge_total) * count / edge_total for count in edge_label_counts.values()\n",
    "    )\n",
    "    return (pos_entropy, edge_entropy)"
   ]
  },
  {
   "cell_type": "code",
   "execution_count": 16,
   "metadata": {},
   "outputs": [],
   "source": [
    "def entropies_for_corpus_bootstrap(path, n_iter, alpha):\n",
    "    with open(path, 'r', encoding='utf-8') as inp:\n",
    "        blocks = inp.read().split('\\n\\n')\n",
    "    blocks = [b for b in blocks if b]\n",
    "    pos_entropy, edge_label_entropy = entropies_for_corpus(blocks)\n",
    "    \n",
    "    # Compute confidence intervals\n",
    "    boot_pos_entropies = []\n",
    "    boot_edge_entropies = []\n",
    "    for iteration in range(n_iter):\n",
    "        idx = list(range(len(blocks)))\n",
    "        sample_idx = [ choice(idx) for i in range(1000) ]\n",
    "        bootstrap_sample = [ blocks[i] for i in sample_idx ]\n",
    "        boot_pos, boot_edge = entropies_for_corpus(bootstrap_sample)\n",
    "        boot_pos_entropies.append(boot_pos)\n",
    "        boot_edge_entropies.append(boot_edge)\n",
    "    boot_pos_entropies.sort()\n",
    "    boot_edge_entropies.sort()\n",
    "    confint_idx_lower = ceil(n_iter*alpha)-1\n",
    "    confint_idx_upper = n_iter-1 - floor(n_iter*alpha)\n",
    "    return {\n",
    "        'POS': (pos_entropy, boot_pos_entropies[confint_idx_lower], boot_pos_entropies[confint_idx_upper]),\n",
    "        'edges': (edge_label_entropy, boot_edge_entropies[confint_idx_lower], boot_edge_entropies[confint_idx_upper])\n",
    "    }"
   ]
  },
  {
   "cell_type": "markdown",
   "metadata": {},
   "source": [
    "## Ru"
   ]
  },
  {
   "cell_type": "code",
   "execution_count": 18,
   "metadata": {},
   "outputs": [
    {
     "data": {
      "text/plain": [
       "{'POS': (3.0940147845032966, 3.0770817349644615, 3.110319129001528),\n",
       " 'edges': (4.155587710657946, 4.132242340536936, 4.174841893046109)}"
      ]
     },
     "execution_count": 18,
     "metadata": {},
     "output_type": "execute_result"
    }
   ],
   "source": [
    "entropies_for_corpus_bootstrap('ru_pud-ud-test.conllu', 1000, 0.05)"
   ]
  },
  {
   "cell_type": "code",
   "execution_count": 28,
   "metadata": {},
   "outputs": [
    {
     "data": {
      "text/plain": [
       "{'POS': (3.162666894493195, 3.1413688264066377, 3.1827156449658816),\n",
       " 'edges': (4.108018682916278, 4.0821695521783035, 4.126888044593486)}"
      ]
     },
     "execution_count": 28,
     "metadata": {},
     "output_type": "execute_result"
    }
   ],
   "source": [
    "entropies_for_corpus_bootstrap('ru_syntagrus-ud-train.conllu', 1000, 0.05)"
   ]
  },
  {
   "cell_type": "markdown",
   "metadata": {},
   "source": [
    "## Fr"
   ]
  },
  {
   "cell_type": "code",
   "execution_count": 21,
   "metadata": {},
   "outputs": [
    {
     "data": {
      "text/plain": [
       "{'POS': (3.109692625836419, 3.094786795117543, 3.1229571747075817),\n",
       " 'edges': (4.0988059169448015, 4.0744031651757595, 4.1188605629428965)}"
      ]
     },
     "execution_count": 21,
     "metadata": {},
     "output_type": "execute_result"
    }
   ],
   "source": [
    "entropies_for_corpus_bootstrap('fr_pud-ud-test.conllu', 1000, 0.05)"
   ]
  },
  {
   "cell_type": "code",
   "execution_count": 30,
   "metadata": {},
   "outputs": [
    {
     "data": {
      "text/plain": [
       "{'POS': (3.1901053807498356, 3.1740505775941363, 3.2047540080494312),\n",
       " 'edges': (4.106026237968075, 4.079674742038856, 4.128718646480505)}"
      ]
     },
     "execution_count": 30,
     "metadata": {},
     "output_type": "execute_result"
    }
   ],
   "source": [
    "entropies_for_corpus_bootstrap('fr_gsd-ud-train.conllu', 1000, 0.05)"
   ]
  },
  {
   "cell_type": "markdown",
   "metadata": {},
   "source": [
    "## Zh"
   ]
  },
  {
   "cell_type": "code",
   "execution_count": 24,
   "metadata": {},
   "outputs": [
    {
     "data": {
      "text/plain": [
       "{'POS': (3.0823632182791183, 3.067913936116606, 3.096310328918611),\n",
       " 'edges': (4.571739329126503, 4.554040321098813, 4.586644061962406)}"
      ]
     },
     "execution_count": 24,
     "metadata": {},
     "output_type": "execute_result"
    }
   ],
   "source": [
    "entropies_for_corpus_bootstrap('zh_pud-ud-test.conllu', 1000, 0.05)"
   ]
  },
  {
   "cell_type": "code",
   "execution_count": 31,
   "metadata": {},
   "outputs": [
    {
     "data": {
      "text/plain": [
       "{'POS': (2.9502270276865765, 2.9352800478671317, 2.9643435207324647),\n",
       " 'edges': (4.4957687896424074, 4.4759294151345745, 4.512530011524059)}"
      ]
     },
     "execution_count": 31,
     "metadata": {},
     "output_type": "execute_result"
    }
   ],
   "source": [
    "entropies_for_corpus_bootstrap('zh_gsd-ud-train.conllu', 1000, 0.05)"
   ]
  },
  {
   "cell_type": "markdown",
   "metadata": {},
   "source": [
    "## Ja"
   ]
  },
  {
   "cell_type": "code",
   "execution_count": 26,
   "metadata": {},
   "outputs": [
    {
     "data": {
      "text/plain": [
       "{'POS': (2.8600614320157134, 2.84430953271178, 2.874953183494158),\n",
       " 'edges': (3.4823312459962334, 3.4685174347704235, 3.494483918235252)}"
      ]
     },
     "execution_count": 26,
     "metadata": {},
     "output_type": "execute_result"
    }
   ],
   "source": [
    "entropies_for_corpus_bootstrap('ja_pud-ud-test.conllu', 1000, 0.05)"
   ]
  },
  {
   "cell_type": "code",
   "execution_count": 32,
   "metadata": {},
   "outputs": [
    {
     "data": {
      "text/plain": [
       "{'POS': (2.779415948931103, 2.7609353544014508, 2.7979895472652814),\n",
       " 'edges': (3.486357741245869, 3.472475978441091, 3.4995563035233035)}"
      ]
     },
     "execution_count": 32,
     "metadata": {},
     "output_type": "execute_result"
    }
   ],
   "source": [
    "entropies_for_corpus_bootstrap('ja_gsd-ud-train.conllu', 1000, 0.05)"
   ]
  },
  {
   "cell_type": "markdown",
   "metadata": {},
   "source": [
    "## Ar"
   ]
  },
  {
   "cell_type": "code",
   "execution_count": 33,
   "metadata": {},
   "outputs": [
    {
     "data": {
      "text/plain": [
       "{'POS': (2.9995379136456792, 2.9819599978924765, 3.016151600224549),\n",
       " 'edges': (3.99942327658942, 3.9744930044515168, 4.020187029816372)}"
      ]
     },
     "execution_count": 33,
     "metadata": {},
     "output_type": "execute_result"
    }
   ],
   "source": [
    "entropies_for_corpus_bootstrap('ar_pud-ud-test.conllu', 1000, 0.05)"
   ]
  },
  {
   "cell_type": "code",
   "execution_count": 34,
   "metadata": {},
   "outputs": [
    {
     "data": {
      "text/plain": [
       "{'POS': (2.6541645925472572, 2.637242432125633, 2.6706664104301643),\n",
       " 'edges': (3.6920046048507995, 3.6691579842984385, 3.713098856130462)}"
      ]
     },
     "execution_count": 34,
     "metadata": {},
     "output_type": "execute_result"
    }
   ],
   "source": [
    "entropies_for_corpus_bootstrap('ar_padt-ud-train.conllu', 1000, 0.05)"
   ]
  },
  {
   "cell_type": "markdown",
   "metadata": {},
   "source": [
    "## Cs"
   ]
  },
  {
   "cell_type": "code",
   "execution_count": 35,
   "metadata": {},
   "outputs": [
    {
     "data": {
      "text/plain": [
       "{'POS': (3.214038678321522, 3.196900851017875, 3.2306849582427604),\n",
       " 'edges': (4.267649506226525, 4.24233992999378, 4.288510068106412)}"
      ]
     },
     "execution_count": 35,
     "metadata": {},
     "output_type": "execute_result"
    }
   ],
   "source": [
    "entropies_for_corpus_bootstrap('cs_pud-ud-test.conllu', 1000, 0.05)"
   ]
  },
  {
   "cell_type": "code",
   "execution_count": 36,
   "metadata": {},
   "outputs": [
    {
     "data": {
      "text/plain": [
       "{'POS': (3.191194259514765, 3.1702661982070466, 3.210060559119925),\n",
       " 'edges': (4.285073011947747, 4.2561713945140145, 4.307441830090315)}"
      ]
     },
     "execution_count": 36,
     "metadata": {},
     "output_type": "execute_result"
    }
   ],
   "source": [
    "entropies_for_corpus_bootstrap('cs_pdt-ud-train.conllu', 1000, 0.05)"
   ]
  },
  {
   "cell_type": "markdown",
   "metadata": {},
   "source": [
    "## Id"
   ]
  },
  {
   "cell_type": "code",
   "execution_count": 37,
   "metadata": {},
   "outputs": [
    {
     "data": {
      "text/plain": [
       "{'POS': (2.9947496456472935, 2.9771440827543967, 3.0109056365653544),\n",
       " 'edges': (4.518351743735474, 4.498520142172975, 4.531886546186522)}"
      ]
     },
     "execution_count": 37,
     "metadata": {},
     "output_type": "execute_result"
    }
   ],
   "source": [
    "entropies_for_corpus_bootstrap('id_pud-ud-test.conllu', 1000, 0.05)"
   ]
  },
  {
   "cell_type": "code",
   "execution_count": 38,
   "metadata": {},
   "outputs": [
    {
     "data": {
      "text/plain": [
       "{'POS': (3.090898538421487, 3.070982720704583, 3.1085976632711847),\n",
       " 'edges': (4.198134807643022, 4.179698436885966, 4.210848435013377)}"
      ]
     },
     "execution_count": 38,
     "metadata": {},
     "output_type": "execute_result"
    }
   ],
   "source": [
    "entropies_for_corpus_bootstrap('id_gsd-ud-train.conllu', 1000, 0.05)"
   ]
  }
 ],
 "metadata": {
  "kernelspec": {
   "display_name": "Python 3",
   "language": "python",
   "name": "python3"
  },
  "language_info": {
   "codemirror_mode": {
    "name": "ipython",
    "version": 3
   },
   "file_extension": ".py",
   "mimetype": "text/x-python",
   "name": "python",
   "nbconvert_exporter": "python",
   "pygments_lexer": "ipython3",
   "version": "3.7.3"
  }
 },
 "nbformat": 4,
 "nbformat_minor": 2
}
