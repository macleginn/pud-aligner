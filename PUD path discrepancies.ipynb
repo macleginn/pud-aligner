{
 "cells": [
  {
   "cell_type": "code",
   "execution_count": 2,
   "metadata": {},
   "outputs": [],
   "source": [
    "import sqlite3\n",
    "import pymorphy2\n",
    "import json\n",
    "from collections import Counter\n",
    "from itertools import combinations as combs\n",
    "from queue import SimpleQueue"
   ]
  },
  {
   "cell_type": "code",
   "execution_count": 1,
   "metadata": {},
   "outputs": [],
   "source": [
    "def normalise_key(k):\n",
    "    \"\"\"Converts 0-based indexing to 1-based indexing.\"\"\"\n",
    "    return str(int(k)+1)"
   ]
  },
  {
   "cell_type": "code",
   "execution_count": 3,
   "metadata": {},
   "outputs": [],
   "source": [
    "def conll2graph(record):\n",
    "    \"\"\"Converts sentences described using CoNLL-U format (http://universaldependencies.org/format.html)\n",
    "    to graphs. Returns a dictionary of nodes (wordforms and POS tags indexed by line numbers)\n",
    "    together with a graph of the dependencies encoded as adjacency lists of\n",
    "    (node_key, relation_label, direction[up or down]) tuples.\"\"\"\n",
    "    graph = {}\n",
    "    nodes = {}\n",
    "    for line in record.splitlines():\n",
    "        if line.startswith('#'):\n",
    "            continue\n",
    "        fields = line.strip('\\n').split('\\t')\n",
    "        key = fields[0]\n",
    "        # Ignore compound surface keys for aux, du, etc.\n",
    "        if '-' in key:\n",
    "            continue\n",
    "        # lemma would be better, but there are no lemmas in Russian PUD\n",
    "        # take care of this at a later stage\n",
    "        wordform = fields[1] \n",
    "        pos = fields[3]\n",
    "        parent = fields[6]\n",
    "        relation = fields[7]\n",
    "        nodes[key] = { 'wordform': wordform, 'pos': pos }\n",
    "        if key not in graph:\n",
    "            graph[key] = []\n",
    "        if parent not in graph:\n",
    "            graph[parent] = []\n",
    "        graph[key].append((parent, relation, 'up'))\n",
    "        graph[parent].append((key, relation, 'down'))\n",
    "    return (nodes, graph)"
   ]
  },
  {
   "cell_type": "code",
   "execution_count": 4,
   "metadata": {},
   "outputs": [],
   "source": [
    "def extract_raw_sentences(record):\n",
    "    \"\"\"Extracts target and source sentences from the target record.\"\"\"\n",
    "    lines = record[3].splitlines()\n",
    "    for l in lines:\n",
    "        if l.startswith('# text = '):\n",
    "            target = l.strip('\\n')[len('# text = '):]\n",
    "            for l2 in lines:\n",
    "                if l2.startswith('# text_en = '):\n",
    "                    source = l2.strip('\\n')[len('# text_en = '):]\n",
    "                    return (source, target)\n",
    "            else:\n",
    "                raise ValueError('No source sentence found')\n",
    "    else:\n",
    "        raise ValueError('No target sentence found')"
   ]
  },
  {
   "cell_type": "code",
   "execution_count": 5,
   "metadata": {},
   "outputs": [],
   "source": [
    "def preprocess_alignment(alignment_str):\n",
    "    \"\"\"Extracts unaligned words and one-to-many alignments.\n",
    "    returns remaining edges as a list.\"\"\"\n",
    "    en_degrees = Counter()\n",
    "    fr_degrees = Counter()\n",
    "    unaligned_en = []\n",
    "    unaligned_fr = []\n",
    "    one_to_many_en = {}\n",
    "    one_to_many_fr = {}\n",
    "    alignment_edges = alignment_str.split()\n",
    "    real_edges = []\n",
    "    resulting_edges = []\n",
    "    for edge in alignment_edges:\n",
    "        en, fr = edge.split('-')\n",
    "        if en == 'X':\n",
    "            unaligned_fr.append(fr)\n",
    "        elif fr == 'X':\n",
    "            unaligned_en.append(en)\n",
    "        else:\n",
    "            en_degrees[en] += 1\n",
    "            fr_degrees[fr] += 1\n",
    "            real_edges.append((en, fr))\n",
    "    for edge in real_edges:\n",
    "        en, fr = edge\n",
    "        if en_degrees[en] > 1:\n",
    "            if en not in one_to_many_en:\n",
    "                one_to_many_en[en] = []\n",
    "            one_to_many_en[en].append(fr)\n",
    "        elif fr_degrees[fr] > 1:\n",
    "            if fr not in one_to_many_fr:\n",
    "                one_to_many_fr[fr] = []\n",
    "            one_to_many_fr[fr].append(en)\n",
    "        else:\n",
    "            resulting_edges.append(edge)\n",
    "    return (\n",
    "        unaligned_en,\n",
    "        unaligned_fr,\n",
    "        one_to_many_en,\n",
    "        one_to_many_fr,\n",
    "        resulting_edges\n",
    "    )"
   ]
  },
  {
   "cell_type": "code",
   "execution_count": 6,
   "metadata": {},
   "outputs": [],
   "source": [
    "def get_path(node1, node2, graph):\n",
    "    if node1 == node2:\n",
    "        return []\n",
    "    \n",
    "    # BFS with edge labels for paths\n",
    "    q = SimpleQueue()\n",
    "    # Remembers where we came from and the edge label\n",
    "    sources = {}\n",
    "    \n",
    "    q.put(node1)\n",
    "    visited = set()\n",
    "    visited.add(node1)\n",
    "    \n",
    "    while not q.empty():\n",
    "        current = q.get()\n",
    "        for neighbour, relation, direction in graph[current]:\n",
    "            if neighbour == node2:\n",
    "                path = [relation+'_'+direction]\n",
    "                source = current\n",
    "                while source != node1:\n",
    "                    prev_node, prev_relation, prev_direction = sources[source]\n",
    "                    path.append(prev_relation+'_'+prev_direction)\n",
    "                    source = prev_node\n",
    "                return list(reversed(path))\n",
    "            elif neighbour not in visited:\n",
    "                sources[neighbour] = (current, relation, direction)\n",
    "                q.put(neighbour)\n",
    "            visited.add(neighbour)\n",
    "            \n",
    "    raise ValueError(\"UD graph is not connected.\")"
   ]
  },
  {
   "cell_type": "code",
   "execution_count": 82,
   "metadata": {},
   "outputs": [],
   "source": [
    "def strip_directions(path):\n",
    "    return list(map(lambda x: x.split('_')[0], path))"
   ]
  },
  {
   "cell_type": "code",
   "execution_count": 5,
   "metadata": {},
   "outputs": [],
   "source": [
    "def get_node_depth(node, graph):\n",
    "    # BFS\n",
    "    cur_depth = 0\n",
    "    q = SimpleQueue()\n",
    "    q.put(('0',0))\n",
    "    visited = set()\n",
    "    visited.add('0')\n",
    "    while not q.empty():\n",
    "        current_node, current_depth = q.get()\n",
    "        for neighbour, *_ in graph[current_node]:\n",
    "            if neighbour == node:\n",
    "                return current_depth+1\n",
    "            elif neighbour not in visited:\n",
    "                q.put((neighbour, current_depth+1))\n",
    "            visited.add(neighbour)\n",
    "    raise IndexError(\"Target node unreachable\")"
   ]
  },
  {
   "cell_type": "code",
   "execution_count": 12,
   "metadata": {},
   "outputs": [],
   "source": [
    "def get_upgoing_relation(node, graph):\n",
    "    rel = None\n",
    "    for edge in graph[node]:\n",
    "        if edge[-1] == 'up':\n",
    "            rel = edge[1]\n",
    "            break\n",
    "    assert rel != None\n",
    "    return rel"
   ]
  },
  {
   "cell_type": "code",
   "execution_count": 6,
   "metadata": {},
   "outputs": [],
   "source": [
    "conn = sqlite3.connect('pud.db')\n",
    "cursor = conn.cursor()"
   ]
  },
  {
   "cell_type": "code",
   "execution_count": 7,
   "metadata": {},
   "outputs": [],
   "source": [
    "en_ru = [r for r in cursor.execute('select * from `en-ru` where `verified` = 1')]\n",
    "en_fr = [r for r in cursor.execute('select * from `en-fr` where `verified` = 1')]\n",
    "en_zh = [r for r in cursor.execute('select * from `en-zh` where `verified` = 1')]"
   ]
  },
  {
   "cell_type": "code",
   "execution_count": 55,
   "metadata": {},
   "outputs": [],
   "source": [
    "fr_n, fr_g = conll2graph(en_fr[35][3])"
   ]
  },
  {
   "cell_type": "code",
   "execution_count": 8,
   "metadata": {},
   "outputs": [
    {
     "data": {
      "text/plain": [
       "('n01001',\n",
       " 'n01001011',\n",
       " \"# newdoc id = n01001\\n# sent_id = n01001011\\n# text = “While much of the digital transition is unprecedented in the United States, the peaceful transition of power is not,” Obama special assistant Kori Schulman wrote in a blog post Monday.\\n1\\t“\\t“\\tPUNCT\\t``\\t_\\t20\\tpunct\\t20:punct\\tSpaceAfter=No\\n2\\tWhile\\twhile\\tSCONJ\\tIN\\t_\\t9\\tmark\\t9:mark\\t_\\n3\\tmuch\\tmuch\\tADJ\\tJJ\\tDegree=Pos\\t9\\tnsubj\\t9:nsubj\\t_\\n4\\tof\\tof\\tADP\\tIN\\t_\\t7\\tcase\\t7:case\\t_\\n5\\tthe\\tthe\\tDET\\tDT\\tDefinite=Def|PronType=Art\\t7\\tdet\\t7:det\\t_\\n6\\tdigital\\tdigital\\tADJ\\tJJ\\tDegree=Pos\\t7\\tamod\\t7:amod\\t_\\n7\\ttransition\\ttransition\\tNOUN\\tNN\\tNumber=Sing\\t3\\tnmod\\t3:nmod:of\\t_\\n8\\tis\\tbe\\tAUX\\tVBZ\\tMood=Ind|Number=Sing|Person=3|Tense=Pres|VerbForm=Fin\\t9\\tcop\\t9:cop\\t_\\n9\\tunprecedented\\tunprecedented\\tADJ\\tJJ\\tDegree=Pos\\t20\\tadvcl\\t20:advcl:while\\t_\\n10\\tin\\tin\\tADP\\tIN\\t_\\t13\\tcase\\t13:case\\t_\\n11\\tthe\\tthe\\tDET\\tDT\\tDefinite=Def|PronType=Art\\t13\\tdet\\t13:det\\t_\\n12\\tUnited\\tUnited\\tPROPN\\tNNP\\tNumber=Sing\\t13\\tcompound\\t13:compound\\t_\\n13\\tStates\\tstate\\tPROPN\\tNNS\\tNumber=Plur\\t9\\tobl\\t9:obl:in\\tSpaceAfter=No\\n14\\t,\\t,\\tPUNCT\\t,\\t_\\t20\\tpunct\\t20:punct\\t_\\n15\\tthe\\tthe\\tDET\\tDT\\tDefinite=Def|PronType=Art\\t17\\tdet\\t17:det\\t_\\n16\\tpeaceful\\tpeaceful\\tADJ\\tJJ\\tDegree=Pos\\t17\\tamod\\t17:amod\\t_\\n17\\ttransition\\ttransition\\tNOUN\\tNN\\tNumber=Sing\\t20\\tnsubj\\t20:nsubj\\t_\\n18\\tof\\tof\\tADP\\tIN\\t_\\t19\\tcase\\t19:case\\t_\\n19\\tpower\\tpower\\tNOUN\\tNN\\tNumber=Sing\\t17\\tnmod\\t17:nmod:of\\t_\\n20\\tis\\tbe\\tAUX\\tVBZ\\tMood=Ind|Number=Sing|Person=3|Tense=Pres|VerbForm=Fin\\t0\\troot\\t0:root\\t_\\n21\\tnot\\tnot\\tADV\\tRB\\tPolarity=Neg\\t20\\tadvmod\\t20:advmod\\tSpaceAfter=No\\n22\\t,\\t,\\tPUNCT\\t,\\t_\\t20\\tpunct\\t20:punct\\tSpaceAfter=No\\n23\\t”\\t”\\tPUNCT\\t''\\t_\\t20\\tpunct\\t20:punct\\t_\\n24\\tObama\\tObama\\tPROPN\\tNNP\\tNumber=Sing\\t26\\tcompound\\t26:compound\\t_\\n25\\tspecial\\tspecial\\tADJ\\tJJ\\tDegree=Pos\\t26\\tamod\\t26:amod\\t_\\n26\\tassistant\\tassistant\\tNOUN\\tNN\\tNumber=Sing\\t29\\tnsubj\\t29:nsubj\\t_\\n27\\tKori\\tKori\\tPROPN\\tNNP\\tNumber=Sing\\t26\\tflat\\t26:flat\\t_\\n28\\tSchulman\\tSchulman\\tPROPN\\tNNP\\tNumber=Sing\\t26\\tflat\\t26:flat\\t_\\n29\\twrote\\twrite\\tVERB\\tVBD\\tMood=Ind|Tense=Past|VerbForm=Fin\\t20\\tparataxis\\t20:parataxis\\t_\\n30\\tin\\tin\\tADP\\tIN\\t_\\t33\\tcase\\t33:case\\t_\\n31\\ta\\ta\\tDET\\tDT\\tDefinite=Ind|PronType=Art\\t33\\tdet\\t33:det\\t_\\n32\\tblog\\tblog\\tNOUN\\tNN\\tNumber=Sing\\t33\\tcompound\\t33:compound\\t_\\n33\\tpost\\tpost\\tNOUN\\tNN\\tNumber=Sing\\t29\\tobl\\t29:obl:in\\t_\\n34\\tMonday\\tMonday\\tPROPN\\tNNP\\tNumber=Sing\\t29\\tnmod:tmod\\t29:nmod:tmod\\tSpaceAfter=No\\n35\\t.\\t.\\tPUNCT\\t.\\t_\\t20\\tpunct\\t20:punct\\t_\",\n",
       " '# newdoc id = n01001\\n# sent_id = n01001011\\n# text = \"虽然美国的许多数字化转型都是史无前例的，但权力的和平转移却存在先例，”奥巴马的特别助理科瑞·舒尔曼在周一发布的博客中写道。\\n# text_en = “While much of the digital transition is unprecedented in the United States, the peaceful transition of power is not,” Obama special assistant Kori Schulman wrote in a blog post Monday.\\n1\\t\"\\t_\\tPUNCT\\t``\\t_\\t18\\tpunct\\t_\\tSpaceAfter=No|Translit=\"\\n2\\t虽然\\t_\\tSCONJ\\tIN\\t_\\t8\\tmark\\t_\\tSpaceAfter=No|Translit=suīrán\\n3\\t美国\\t_\\tPROPN\\tNNP\\t_\\t7\\tnmod\\t_\\tSpaceAfter=No|Translit=měiguó\\n4\\t的\\t_\\tPART\\tDEC\\tCase=Gen\\t3\\tcase\\t_\\tSpaceAfter=No|Translit=de\\n5\\t许多\\t_\\tNUM\\tCD\\tNumType=Card\\t7\\tnummod\\t_\\tSpaceAfter=No|Translit=xǔduō\\n6\\t数字化\\t_\\tNOUN\\tNN\\t_\\t7\\tcompound\\t_\\tSpaceAfter=No|Translit=shùzìhuà\\n7\\t转型\\t_\\tNOUN\\tNN\\t_\\t8\\tnsubj\\t_\\tSpaceAfter=No|Translit=zhuǎnxíng\\n8\\t都是\\t_\\tVERB\\tVC\\t_\\t18\\tadvcl\\t_\\tSpaceAfter=No|Translit=dōushì\\n9\\t史无前例\\t_\\tVERB\\tVV\\t_\\t8\\txcomp\\t_\\tSpaceAfter=No|Translit=shǐwúqiánlì\\n10\\t的\\t_\\tPART\\tUH\\t_\\t8\\tdiscourse:sp\\t_\\tSpaceAfter=No|Translit=de\\n11\\t，\\t_\\tPUNCT\\t,\\t_\\t8\\tpunct\\t_\\tSpaceAfter=No|Translit=，\\n12\\t但\\t_\\tADV\\tRB\\t_\\t18\\tadvmod\\t_\\tSpaceAfter=No|Translit=dàn\\n13\\t权力\\t_\\tNOUN\\tNN\\t_\\t16\\tnmod\\t_\\tSpaceAfter=No|Translit=quánlì\\n14\\t的\\t_\\tPART\\tDEC\\tCase=Gen\\t13\\tcase\\t_\\tSpaceAfter=No|Translit=de\\n15\\t和平\\t_\\tNOUN\\tNN\\t_\\t16\\tcompound\\t_\\tSpaceAfter=No|Translit=hépíng\\n16\\t转移\\t_\\tNOUN\\tNN\\t_\\t18\\tnsubj\\t_\\tSpaceAfter=No|Translit=zhuǎnyí\\n17\\t却\\t_\\tADV\\tRB\\t_\\t18\\tadvmod\\t_\\tSpaceAfter=No|Translit=què\\n18\\t存在\\t_\\tVERB\\tVV\\t_\\t36\\tdep\\t_\\tSpaceAfter=No|Translit=cúnzài\\n19\\t先例\\t_\\tNOUN\\tNN\\t_\\t18\\tobj\\t_\\tSpaceAfter=No|Translit=xiānlì\\n20\\t，\\t_\\tPUNCT\\t,\\t_\\t18\\tpunct\\t_\\tSpaceAfter=No|Translit=，\\n21\\t”\\t_\\tPUNCT\\t\\'\\'\\t_\\t18\\tpunct\\t_\\tSpaceAfter=No|Translit=”\\n22\\t奥巴马\\t_\\tPROPN\\tNNP\\t_\\t25\\tnmod\\t_\\tSpaceAfter=No|Translit=奥bamǎ\\n23\\t的\\t_\\tPART\\tDEC\\tCase=Gen\\t22\\tcase\\t_\\tSpaceAfter=No|Translit=de\\n24\\t特别\\t_\\tADJ\\tJJ\\t_\\t25\\tamod\\t_\\tSpaceAfter=No|Translit=tèbié\\n25\\t助理\\t_\\tNOUN\\tNN\\t_\\t36\\tnsubj\\t_\\tSpaceAfter=No|Translit=zhùlǐ\\n26\\t科瑞\\t_\\tPROPN\\tNNP\\t_\\t25\\tappos\\t_\\tSpaceAfter=No|Translit=kē瑞\\n27\\t·\\t_\\tPUNCT\\t/\\t_\\t28\\tpunct\\t_\\tProper=True|SpaceAfter=No|Translit=·\\n28\\t舒尔曼\\t_\\tPROPN\\tNNP\\t_\\t25\\tflat:name\\t_\\tSpaceAfter=No|Translit=shū\\'ěr曼\\n29\\t在\\t_\\tADP\\tIN\\t_\\t34\\tcase\\t_\\tSpaceAfter=No|Translit=zài\\n30\\t周\\t_\\tNOUN\\tNN\\t_\\t32\\tobl:tmod\\t_\\tSpaceAfter=No|Translit=zhōu\\n31\\t一\\t_\\tNUM\\tCD\\tNumType=Card\\t30\\tnummod\\t_\\tSpaceAfter=No|Translit=yī\\n32\\t发布\\t_\\tVERB\\tVV\\t_\\t34\\tacl:relcl\\t_\\tSpaceAfter=No|Translit=fābù\\n33\\t的\\t_\\tPART\\tDEC\\t_\\t32\\tmark:relcl\\t_\\tSpaceAfter=No|Translit=de\\n34\\t博客\\t_\\tNOUN\\tNN\\t_\\t36\\tobl\\t_\\tSpaceAfter=No|Translit=bókè\\n35\\t中\\t_\\tADP\\tIN\\t_\\t34\\tcase:loc\\t_\\tSpaceAfter=No|Translit=zhōng\\n36\\t写道\\t_\\tVERB\\tVV\\t_\\t0\\troot\\t_\\tSpaceAfter=No|Translit=xiědào\\n37\\t。\\t_\\tPUNCT\\t.\\t_\\t36\\tpunct\\t_\\tTranslit=。',\n",
       " '{\"24\": [\"22\"], \"25\": [\"24\"], \"26\": [\"25\"], \"27\": [\"26\"], \"28\": [\"28\"], \"34\": [\"30\", \"31\"], \"29\": [\"36\"], \"33\": [\"32\"], \"32\": [\"34\"], \"30\": [\"29\"], \"12\": [\"3\"], \"13\": [\"3\"], \"9\": [\"9\"], \"3\": [\"5\"], \"6\": [\"6\"], \"7\": [\"7\"], \"19\": [\"13\"], \"16\": [\"15\"], \"17\": [\"16\"], \"2\": [\"2\"], \"X\": [\"17\", \"19\", \"8\", \"12\", \"18\"], \"21\": [\"X\"]}',\n",
       " 1)"
      ]
     },
     "execution_count": 8,
     "metadata": {},
     "output_type": "execute_result"
    }
   ],
   "source": [
    "en_zh[0]"
   ]
  },
  {
   "cell_type": "code",
   "execution_count": 36,
   "metadata": {},
   "outputs": [],
   "source": [
    "def none_stats(corpus):\n",
    "    en_fr_POS_none = Counter()\n",
    "    en_fr_POS = Counter()\n",
    "    en_fr_edge_none = Counter()\n",
    "    en_fr_edge = Counter()\n",
    "\n",
    "    fr_POS_none = Counter()\n",
    "    fr_POS = Counter()\n",
    "    fr_edge_none = Counter()\n",
    "    fr_edge = Counter()\n",
    "\n",
    "    for record in corpus:\n",
    "        _, _, en_conll, fr_conll, alignment_str, _ = record\n",
    "        en_n, en_g = conll2graph(en_conll)\n",
    "        fr_n, fr_g = conll2graph(fr_conll)\n",
    "        align_dict = json.loads(alignment_str)\n",
    "        for k, v in align_dict.items():\n",
    "            if k == 'X':\n",
    "                for el in v:\n",
    "                    pos = fr_n[el]['pos']\n",
    "                    edge = get_upgoing_relation(el, fr_g)\n",
    "                    fr_POS_none[pos] += 1\n",
    "                    fr_edge_none[edge] += 1\n",
    "            else:\n",
    "                pos = en_n[k]['pos']\n",
    "                edge = get_upgoing_relation(k, en_g)\n",
    "                if v == ['X']:\n",
    "                    en_fr_POS_none[pos] += 1\n",
    "                    en_fr_edge_none[edge] += 1\n",
    "                else:\n",
    "                    en_fr_POS[pos] += 1\n",
    "                    en_fr_edge[edge] += 1\n",
    "                    for el in v:\n",
    "                        pos_fr = fr_n[el]['pos']\n",
    "                        edge_fr = get_upgoing_relation(el, fr_g)\n",
    "                        fr_POS[pos] += 1\n",
    "                        fr_edge[edge] += 1\n",
    "\n",
    "    anti_rating_POS = Counter()\n",
    "    anti_rating_edge = Counter()\n",
    "\n",
    "    for key in en_fr_POS:\n",
    "        anti_rating_POS[key] = en_fr_POS_none[key] / (en_fr_POS_none[key] + en_fr_POS[key]) * 100\n",
    "    for key in en_fr_edge:\n",
    "        anti_rating_edge[key] = en_fr_edge_none[key] / (en_fr_edge_none[key] + en_fr_edge[key]) * 100\n",
    "\n",
    "    print(anti_rating_POS.most_common(7))\n",
    "    print()\n",
    "    print(anti_rating_edge.most_common(7))\n",
    "    \n",
    "    print()\n",
    "    print()\n",
    "    \n",
    "    rating_POS = Counter()\n",
    "    rating_edge = Counter()\n",
    "\n",
    "    for key in en_fr_POS:\n",
    "        rating_POS[key] = fr_POS_none[key] / (fr_POS_none[key] + fr_POS[key]) * 100\n",
    "    for key in en_fr_edge:\n",
    "        rating_edge[key] = fr_edge_none[key] / (fr_edge_none[key] + fr_edge[key]) * 100\n",
    "\n",
    "    print(rating_POS.most_common(7))\n",
    "    print()\n",
    "    print(rating_edge.most_common(7))"
   ]
  },
  {
   "cell_type": "code",
   "execution_count": 37,
   "metadata": {},
   "outputs": [
    {
     "name": "stdout",
     "output_type": "stream",
     "text": [
      "[('DET', 13.91304347826087), ('ADV', 10.413885180240321), ('CCONJ', 10.265486725663717), ('AUX', 8.695652173913043), ('PRON', 8.183632734530939), ('VERB', 6.8679980516317585), ('ADJ', 6.217277486910995)]\n",
      "\n",
      "[('cc:preconj', 71.42857142857143), ('aux:pass', 50.0), ('compound:prt', 45.45454545454545), ('fixed', 14.285714285714285), ('det:predet', 12.5), ('advmod', 10.419313850063533), ('acl', 10.16042780748663)]\n",
      "\n",
      "\n",
      "[('X', 13.333333333333334), ('PRON', 10.795454545454545), ('CCONJ', 9.269162210338681), ('ADV', 8.089097303634233), ('VERB', 7.542147293700088), ('ADP', 5.008944543828265), ('DET', 4.385964912280701)]\n",
      "\n",
      "[('discourse', 66.66666666666666), ('fixed', 62.5), ('goeswith', 50.0), ('iobj', 33.33333333333333), ('ccomp', 21.29032258064516), ('det:predet', 12.5), ('obl:tmod', 10.0)]\n"
     ]
    }
   ],
   "source": [
    "none_stats(en_fr)"
   ]
  },
  {
   "cell_type": "code",
   "execution_count": 38,
   "metadata": {},
   "outputs": [
    {
     "name": "stdout",
     "output_type": "stream",
     "text": [
      "[('ADV', 12.601626016260163), ('PRON', 8.641975308641975), ('CCONJ', 8.333333333333332), ('VERB', 7.184750733137831), ('SCONJ', 7.142857142857142), ('DET', 6.976744186046512), ('AUX', 6.779661016949152)]\n",
      "\n",
      "[('cc:preconj', 33.33333333333333), ('expl', 20.0), ('fixed', 13.333333333333334), ('compound:prt', 12.068965517241379), ('advmod', 11.642949547218628), ('obl:npmod', 11.11111111111111), ('xcomp', 9.961685823754788)]\n",
      "\n",
      "\n",
      "[('X', 50.0), ('PART', 28.723404255319153), ('DET', 23.03030303030303), ('CCONJ', 22.22222222222222), ('ADV', 10.638297872340425), ('PRON', 10.374149659863946), ('NOUN', 8.828213879408418)]\n",
      "\n",
      "[('discourse', 80.0), ('iobj', 76.59574468085107), ('cc:preconj', 66.66666666666666), ('fixed', 35.0), ('acl', 16.037735849056602), ('advmod', 14.176663031624864), ('nmod', 13.412698412698413)]\n"
     ]
    }
   ],
   "source": [
    "none_stats(en_ru)"
   ]
  },
  {
   "cell_type": "code",
   "execution_count": 39,
   "metadata": {},
   "outputs": [
    {
     "name": "stdout",
     "output_type": "stream",
     "text": [
      "[('CCONJ', 26.159554730983302), ('PRON', 23.40966921119593), ('ADP', 17.24137931034483), ('AUX', 14.000000000000002), ('DET', 13.47517730496454), ('SCONJ', 12.4031007751938), ('ADV', 11.98044009779951)]\n",
      "\n",
      "[('cc:preconj', 50.0), ('nmod:poss', 26.878612716763005), ('cc', 25.555555555555554), ('det:predet', 25.0), ('case', 18.098958333333336), ('aux', 17.80821917808219), ('nmod:npmod', 15.789473684210526)]\n",
      "\n",
      "\n",
      "[('X', 62.16216216216216), ('PUNCT', 50.0), ('ADV', 36.98959167333867), ('AUX', 35.55555555555556), ('VERB', 19.269102990033225), ('ADP', 14.722536806342015), ('PRON', 14.025245441795231)]\n",
      "\n",
      "[('dep', 97.95918367346938), ('dislocated', 66.66666666666666), ('cop', 66.66666666666666), ('obl:tmod', 64.58333333333334), ('punct', 50.0), ('advmod', 37.7431906614786), ('mark', 32.535885167464116)]\n"
     ]
    }
   ],
   "source": [
    "none_stats(en_zh)"
   ]
  },
  {
   "cell_type": "code",
   "execution_count": 11,
   "metadata": {},
   "outputs": [
    {
     "data": {
      "text/plain": [
       "{'3': ['2'],\n",
       " '4': ['3'],\n",
       " '5': ['4'],\n",
       " '6': ['5', '6'],\n",
       " '8': ['8'],\n",
       " '9': ['9'],\n",
       " '10': ['10'],\n",
       " '12': ['12'],\n",
       " '14': ['14'],\n",
       " '16': ['16'],\n",
       " '18': ['18'],\n",
       " '19': ['20'],\n",
       " '20': ['19'],\n",
       " '22': ['21'],\n",
       " '24': ['24']}"
      ]
     },
     "execution_count": 11,
     "metadata": {},
     "output_type": "execute_result"
    }
   ],
   "source": [
    "align_dict"
   ]
  },
  {
   "cell_type": "code",
   "execution_count": 92,
   "metadata": {},
   "outputs": [
    {
     "name": "stdout",
     "output_type": "stream",
     "text": [
      "111\n",
      "The judge in Duffy's fraud and breach of trust trial ultimately ruled they were within the Senate's rules when he cleared Duffy of all charges. [Duffy->charges] ['obj_up', 'obl_down']\n",
      "Судья в процессе по делу Даффи (Duffy) о мошенничестве и злоупотреблении доверием в конечном счете принял решение, что таковые имели место в пределах правил Сената, сняв при этом с Даффи все обвинения. [Даффи->обвинения] ['obl_up', 'obj_down']\n",
      "\n",
      "260\n",
      "News of the company’s deceit - which had run for years - wiped tens of billions of euros from VW's value and cost chief executive Martin Winterkorn his job. [value->tens] ['obl_up', 'obj_down']\n",
      "Новости о мошенничестве компании были на слуху уже несколько лет, тем самым понизив стоимость «Фольксвагена» на десятки миллиардов евро и лишив главного исполнительного директора Мартина Винтеркорна его должности. [стоимость->десятки] ['obj_up', 'obl_down']\n",
      "\n",
      "275\n",
      "This means that they have not benefited from the uplift that the fall in sterling has given to overseas assets. [fall->assets] ['nsubj_up', 'obl_down']\n",
      "Это значит, что они не воспользовались ростом, который получили зарубежные активы из-за падения британского фунта. [падения->активы] ['obl_up', 'nsubj_down']\n",
      "\n",
      "420\n",
      "It provided routes for trade, colonisation, and war, as well as food (from fishing and the gathering of other seafood) for numerous communities throughout the ages. [trade->food] ['nmod_up', 'conj_down']\n",
      "Он обеспечивал маршруты для торговли, войны, а также добычи продовольствия (за счет рыболовства и сбора других морепродуктов) для многочисленных общин на протяжении веков. [торговли->продовольствия] ['conj_down', 'nmod_down']\n",
      "\n"
     ]
    }
   ],
   "source": [
    "# Testing code\n",
    "# n = 44\n",
    "# en_n, en_g = conll2graph(en_fr[n][2])\n",
    "# fr_n, fr_g = conll2graph(en_fr[n][3])\n",
    "# (unaligned_en, unalined_fr, one_to_many_en, one_to_many_fr, \n",
    "#      alignment_edges) = preprocess_alignment(en_fr[n][4])\n",
    "# print(len(alignment_edges))\n",
    "# for en, fr in sorted(alignment_edges, key = lambda x: int(x[0])):\n",
    "#     print(en_n[normalise_key(en)]['wordform'] + '->' + fr_n[normalise_key(fr)]['wordform'])\n",
    "# print()\n",
    "\n",
    "for i, record in enumerate(en_ru):\n",
    "    en_n, en_g = conll2graph(record[2])\n",
    "    fr_n, fr_g = conll2graph(record[3])\n",
    "    (unaligned_en, unalined_fr, one_to_many_en, one_to_many_fr, \n",
    "     alignment_edges) = preprocess_alignment(record[4])\n",
    "    source_sent, target_sent = extract_raw_sentences(record)\n",
    "    # Extract highest-positioned counterparts from one-to-many alignments\n",
    "    for node_en, nodes_fr in one_to_many_en.items():\n",
    "        min_depth = 1000\n",
    "        arg_min = 'X'\n",
    "        for n_fr in nodes_fr:\n",
    "            current_depth = get_node_depth(normalise_key(n_fr), fr_g)\n",
    "            if current_depth < min_depth:\n",
    "                min_depth = current_depth\n",
    "                arg_min = n_fr\n",
    "        if arg_min == 'X':\n",
    "            raise ValueError(\"Minimum-depth node not found\")\n",
    "        alignment_edges.append((node_en, arg_min))\n",
    "    for node_fr, nodes_en in one_to_many_fr.items():\n",
    "        min_depth = 1000\n",
    "        arg_min = 'X'\n",
    "        for n_en in nodes_en:\n",
    "            current_depth = get_node_depth(normalise_key(n_en), en_g)\n",
    "            if current_depth < min_depth:\n",
    "                min_depth = current_depth\n",
    "                arg_min = n_en\n",
    "        if arg_min == 'X':\n",
    "            raise ValueError(\"Minimum-depth node not found\")\n",
    "        alignment_edges.append((arg_min, node_fr))\n",
    "    for c in combs(alignment_edges, 2):\n",
    "        p, q = c\n",
    "        en1, fr1 = map(normalise_key, p)\n",
    "        en2, fr2 = map(normalise_key, q)\n",
    "        if fr_n[fr1]['pos'] == 'CCONJ' or fr_n[fr2]['pos'] == 'CCONJ':\n",
    "            continue # CCONJs were not aligned for Russian\n",
    "        path_en = get_path(en1, en2, en_g)\n",
    "        path_fr = get_path(fr1, fr2, fr_g)\n",
    "        if len(path_en) == 2:\n",
    "            path_en_stripped = strip_directions(path_en)\n",
    "            path_fr_stripped = strip_directions(path_fr)\n",
    "            if path_en_stripped != path_fr_stripped and path_en_stripped == list(reversed(path_fr_stripped)):\n",
    "                print(i+1)\n",
    "                print(source_sent, f'[{en_n[en1][\"wordform\"]}->{en_n[en2][\"wordform\"]}]', path_en)\n",
    "                print(target_sent, f'[{fr_n[fr1][\"wordform\"]}->{fr_n[fr2][\"wordform\"]}]', path_fr)\n",
    "                print()"
   ]
  },
  {
   "cell_type": "code",
   "execution_count": null,
   "metadata": {},
   "outputs": [],
   "source": []
  }
 ],
 "metadata": {
  "kernelspec": {
   "display_name": "Python 3",
   "language": "python",
   "name": "python3"
  },
  "language_info": {
   "codemirror_mode": {
    "name": "ipython",
    "version": 3
   },
   "file_extension": ".py",
   "mimetype": "text/x-python",
   "name": "python",
   "nbconvert_exporter": "python",
   "pygments_lexer": "ipython3",
   "version": "3.7.3"
  }
 },
 "nbformat": 4,
 "nbformat_minor": 2
}
