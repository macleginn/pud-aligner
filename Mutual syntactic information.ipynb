{
 "cells": [
  {
   "cell_type": "code",
   "execution_count": 1,
   "metadata": {},
   "outputs": [],
   "source": [
    "import sqlite3\n",
    "import json\n",
    "import re\n",
    "import pandas as pd\n",
    "import numpy as np\n",
    "from collections import Counter\n",
    "from queue import Queue\n",
    "from itertools import combinations as combs"
   ]
  },
  {
   "cell_type": "code",
   "execution_count": 2,
   "metadata": {},
   "outputs": [],
   "source": [
    "def conll2graph(record):\n",
    "    \"\"\"Converts sentences described using CoNLL-U format \n",
    "    (http://universaldependencies.org/format.html) to graphs. \n",
    "    Returns a dictionary of nodes (wordforms and POS tags indexed \n",
    "    by line numbers) together with a graph of the dependencies encoded \n",
    "    as adjacency lists of (node_key, relation_label, direction[up or down]) tuples.\"\"\"\n",
    "    graph = {}\n",
    "    nodes = {}\n",
    "    for line in record.splitlines():\n",
    "        if line.startswith('#'):\n",
    "            continue\n",
    "        fields = line.strip('\\n').split('\\t')\n",
    "        key = fields[0]\n",
    "        # Ignore compound surface keys for aux, du, etc.\n",
    "        # Ignore hidden additional nodes for orphan handling\n",
    "        if '-' in key or '.' in key:\n",
    "            continue\n",
    "        wordform = fields[1] \n",
    "        pos = fields[3]\n",
    "        parent = fields[6]\n",
    "        relation = fields[7]\n",
    "        nodes[key] = {\n",
    "            'wordform': wordform,\n",
    "            'pos': pos,\n",
    "            'relation': relation,\n",
    "            'parent': parent\n",
    "        }\n",
    "        if key not in graph:\n",
    "            graph[key] = []\n",
    "        if parent not in graph:\n",
    "            graph[parent] = []\n",
    "        graph[key].append((parent, relation, 'up'))\n",
    "        graph[parent].append((key, relation, 'down'))\n",
    "    return (nodes, graph)"
   ]
  },
  {
   "cell_type": "code",
   "execution_count": 3,
   "metadata": {},
   "outputs": [],
   "source": [
    "def get_node_depth(node, graph):\n",
    "    \"\"\"A BFS-based implementation.\"\"\"\n",
    "    cur_depth = 0\n",
    "    q = Queue()\n",
    "    q.put(('0',0))\n",
    "    visited = set()\n",
    "    visited.add('0')\n",
    "    while not q.empty():\n",
    "        current_node, current_depth = q.get()\n",
    "        for neighbour, *_ in graph[current_node]:\n",
    "            if neighbour == node:\n",
    "                return current_depth+1\n",
    "            elif neighbour not in visited:\n",
    "                q.put((neighbour, current_depth+1))\n",
    "            visited.add(neighbour)\n",
    "    raise IndexError(\"Target node unreachable\")"
   ]
  },
  {
   "cell_type": "code",
   "execution_count": 4,
   "metadata": {},
   "outputs": [],
   "source": [
    "def highest_or_none(indices, graph):\n",
    "    if indices[0] == 'X':\n",
    "        return None\n",
    "    min_depth = 1000\n",
    "    argmin = None\n",
    "    for i in indices:\n",
    "        key = str(i)\n",
    "        depth = get_node_depth(key, graph)\n",
    "        if depth < min_depth:\n",
    "            min_depth = depth\n",
    "            argmin = key\n",
    "    assert argmin is not None\n",
    "    return argmin"
   ]
  },
  {
   "cell_type": "code",
   "execution_count": 5,
   "metadata": {},
   "outputs": [],
   "source": [
    "def get_path(node1, node2, graph):\n",
    "    if node1 == node2:\n",
    "        return []\n",
    "    \n",
    "    # BFS with edge labels for paths\n",
    "    q = Queue()\n",
    "    # Remembers where we came from and the edge label\n",
    "    sources = {}\n",
    "    \n",
    "    q.put(node1)\n",
    "    visited = set()\n",
    "    visited.add(node1)\n",
    "    \n",
    "    while not q.empty():\n",
    "        current = q.get()\n",
    "        for neighbour, relation, direction in graph[current]:\n",
    "            if neighbour == node2:\n",
    "                path = [relation+'_'+direction]\n",
    "                source = current\n",
    "                while source != node1:\n",
    "                    prev_node, prev_relation, prev_direction = sources[source]\n",
    "                    path.append(prev_relation+'_'+prev_direction)\n",
    "                    source = prev_node\n",
    "                return list(reversed(path))\n",
    "            elif neighbour not in visited:\n",
    "                sources[neighbour] = (current, relation, direction)\n",
    "                q.put(neighbour)\n",
    "            visited.add(neighbour)\n",
    "            \n",
    "    raise ValueError(\"UD graph is not connected.\")"
   ]
  },
  {
   "cell_type": "code",
   "execution_count": 32,
   "metadata": {},
   "outputs": [],
   "source": [
    "from math import log2\n",
    "def mutual_information(counter):\n",
    "    \"\"\"Returns MI and NMI based on (Kvalseth 1987)\"\"\"\n",
    "    total = sum(counter.values())\n",
    "    joint_probabilities = {\n",
    "        pair: count / total for pair, count in counter.items()\n",
    "    }\n",
    "    X_marginal_counts = Counter()\n",
    "    Y_marginal_counts = Counter()\n",
    "    for (head, tail), count in counter.items():\n",
    "        X_marginal_counts[head] += count\n",
    "        Y_marginal_counts[tail] += count\n",
    "    X_marginals = {\n",
    "        x: count / total for x, count in X_marginal_counts.items()\n",
    "    }\n",
    "    Y_marginals = {\n",
    "        y: count / total for y, count in Y_marginal_counts.items()\n",
    "    }\n",
    "    MI = 0\n",
    "    # X and Y values that don't occur together\n",
    "    # contribute 0 to MI and by convention can be\n",
    "    # ignored.\n",
    "    for pair, count in counter.items():\n",
    "        head, tail = pair\n",
    "        MI += joint_probabilities[pair] * log2( \n",
    "            joint_probabilities[pair] / (X_marginals[head] * Y_marginals[tail])\n",
    "        )\n",
    "    # Normalise by dividing by the maximum marginal entropy\n",
    "    X_marginal_entropy = sum(\n",
    "        -1 * p * log2(p) for p in X_marginals.values()\n",
    "    )\n",
    "    Y_marginal_entropy = sum(\n",
    "        -1 * p * log2(p) for p in Y_marginals.values()\n",
    "    )\n",
    "    NMI = MI / max(X_marginal_entropy, Y_marginal_entropy)\n",
    "    return (MI, NMI)"
   ]
  },
  {
   "cell_type": "code",
   "execution_count": 7,
   "metadata": {},
   "outputs": [],
   "source": [
    "strip_direction = lambda x: x.split('_')[0]"
   ]
  },
  {
   "cell_type": "code",
   "execution_count": 11,
   "metadata": {},
   "outputs": [],
   "source": [
    "processed_indices = []"
   ]
  },
  {
   "cell_type": "code",
   "execution_count": 16,
   "metadata": {},
   "outputs": [],
   "source": [
    "def get_pos_edge_pair_counts(en, ru, alignments):\n",
    "    global processed_indices # For debugging\n",
    "    processed_indices = []\n",
    "    pos_pairs = Counter()\n",
    "    edge_pairs = Counter()\n",
    "    for i in range(len(en)):\n",
    "        processed_indices.append(i)\n",
    "        en_n, en_g = conll2graph(en[i])\n",
    "        ko_n, ko_g = conll2graph(ru[i])\n",
    "        alignment = alignments[i]\n",
    "        # Simplify the alignment to a set of one-to-one pairs\n",
    "        one_to_one = []\n",
    "        for k, v in alignment.items():\n",
    "            if k == 'X':\n",
    "                # Do not analyse stuff added on the Ko side for now\n",
    "                continue\n",
    "            head = k\n",
    "            tail = str(highest_or_none(v, ko_g))\n",
    "            one_to_one.append((head, tail))\n",
    "        # POS joint distribution\n",
    "        for pair in one_to_one:\n",
    "            head, tail = pair\n",
    "            # Skip technical additional nodes\n",
    "            if '.' in head:\n",
    "                continue\n",
    "            try:\n",
    "                en_pos = en_n[head]['pos']\n",
    "            except KeyError:\n",
    "                print(i, en[i])\n",
    "                continue\n",
    "            if tail == 'None':\n",
    "                ko_pos = 'None'\n",
    "            else:\n",
    "                ko_pos = ko_n[tail]['pos']\n",
    "            pos_pair = (en_pos, ko_pos)\n",
    "            pos_pairs[pos_pair] += 1\n",
    "        # Edge label joint distribution\n",
    "        for pair in combs(one_to_one, 2):\n",
    "            (en_head, ko_head), (en_tail, ko_tail) = pair\n",
    "            # Skip technical additional nodes\n",
    "            if '.' in head:\n",
    "                continue\n",
    "            en_path_arr = get_path(en_head, en_tail, en_g)\n",
    "            if len(en_path_arr) > 1:\n",
    "                continue\n",
    "            en_path = strip_direction(en_path_arr[0])\n",
    "            if ko_head == ko_tail:\n",
    "                ko_path = 'Nodes collapsed'\n",
    "            elif ko_head == 'None' and ko_tail == 'None':\n",
    "                ko_path = 'Both endpoints unaligned'\n",
    "            elif ko_head == 'None' or ko_tail == 'None':\n",
    "                ko_path = 'One endpoint unaligned'\n",
    "            else:\n",
    "                ko_path_arr = get_path(ko_head, ko_tail, ko_g)\n",
    "                ko_path = '->'.join(\n",
    "                    list(map(strip_direction, ko_path_arr))\n",
    "                )\n",
    "            path_pair = (en_path, ko_path)\n",
    "            edge_pairs[path_pair] += 1\n",
    "    return (pos_pairs, edge_pairs)"
   ]
  },
  {
   "cell_type": "code",
   "execution_count": 9,
   "metadata": {},
   "outputs": [],
   "source": [
    "conn = sqlite3.connect('pud_current.db')\n",
    "cursor = conn.cursor()"
   ]
  },
  {
   "cell_type": "code",
   "execution_count": 10,
   "metadata": {},
   "outputs": [],
   "source": [
    "def get_data(lang_code):\n",
    "    en = []\n",
    "    ko = []\n",
    "    alignments = []\n",
    "    for en_, ko_, alignment_str in cursor.execute(\n",
    "        f'SELECT `en`, `ru`, `alignment` FROM `en-{lang_code}` WHERE `verified` = 1'\n",
    "    ):\n",
    "        en.append(en_)\n",
    "        ko.append(ko_)\n",
    "        alignments.append(json.loads(alignment_str))\n",
    "    return (en, ko, alignments)"
   ]
  },
  {
   "cell_type": "markdown",
   "metadata": {},
   "source": [
    "## En-Ru"
   ]
  },
  {
   "cell_type": "code",
   "execution_count": 17,
   "metadata": {},
   "outputs": [],
   "source": [
    "en, ru, alignments = get_data('ru')"
   ]
  },
  {
   "cell_type": "code",
   "execution_count": 18,
   "metadata": {},
   "outputs": [],
   "source": [
    "pos_pairs, edge_pairs = get_pos_edge_pair_counts(en, ru, alignments)"
   ]
  },
  {
   "cell_type": "code",
   "execution_count": 19,
   "metadata": {},
   "outputs": [
    {
     "data": {
      "text/plain": [
       "[(('NOUN', 'NOUN'), 3265),\n",
       " (('VERB', 'VERB'), 1630),\n",
       " (('PROPN', 'PROPN'), 1316),\n",
       " (('ADJ', 'ADJ'), 1080),\n",
       " (('ADV', 'ADV'), 404)]"
      ]
     },
     "execution_count": 19,
     "metadata": {},
     "output_type": "execute_result"
    }
   ],
   "source": [
    "pos_pairs.most_common(5)"
   ]
  },
  {
   "cell_type": "code",
   "execution_count": 20,
   "metadata": {
    "scrolled": true
   },
   "outputs": [
    {
     "data": {
      "text/plain": [
       "[(('amod', 'amod'), 927),\n",
       " (('nsubj', 'nsubj'), 731),\n",
       " (('nmod', 'nmod'), 604),\n",
       " (('obl', 'obl'), 555),\n",
       " (('obj', 'obj'), 422)]"
      ]
     },
     "execution_count": 20,
     "metadata": {},
     "output_type": "execute_result"
    }
   ],
   "source": [
    "edge_pairs.most_common(5)"
   ]
  },
  {
   "cell_type": "code",
   "execution_count": 33,
   "metadata": {},
   "outputs": [
    {
     "data": {
      "text/plain": [
       "(1.5175937518573266, 0.5215017877509472)"
      ]
     },
     "execution_count": 33,
     "metadata": {},
     "output_type": "execute_result"
    }
   ],
   "source": [
    "mutual_information(pos_pairs)"
   ]
  },
  {
   "cell_type": "code",
   "execution_count": 34,
   "metadata": {},
   "outputs": [
    {
     "data": {
      "text/plain": [
       "(2.317625354988861, 0.4407009173264683)"
      ]
     },
     "execution_count": 34,
     "metadata": {},
     "output_type": "execute_result"
    }
   ],
   "source": [
    "mutual_information(edge_pairs)"
   ]
  },
  {
   "cell_type": "markdown",
   "metadata": {},
   "source": [
    "## En-Fr"
   ]
  },
  {
   "cell_type": "code",
   "execution_count": 23,
   "metadata": {},
   "outputs": [],
   "source": [
    "en_fr, fr, alignments_fr = get_data('fr')\n",
    "pos_pairs_fr, edge_pairs_fr = get_pos_edge_pair_counts(en_fr, fr, alignments_fr)"
   ]
  },
  {
   "cell_type": "code",
   "execution_count": 35,
   "metadata": {},
   "outputs": [
    {
     "data": {
      "text/plain": [
       "(1.7749031148353012, 0.599195428397317)"
      ]
     },
     "execution_count": 35,
     "metadata": {},
     "output_type": "execute_result"
    }
   ],
   "source": [
    "mutual_information(pos_pairs_fr)"
   ]
  },
  {
   "cell_type": "code",
   "execution_count": 36,
   "metadata": {},
   "outputs": [
    {
     "data": {
      "text/plain": [
       "(2.617543767359971, 0.5031209518792668)"
      ]
     },
     "execution_count": 36,
     "metadata": {},
     "output_type": "execute_result"
    }
   ],
   "source": [
    "mutual_information(edge_pairs_fr)"
   ]
  },
  {
   "cell_type": "markdown",
   "metadata": {},
   "source": [
    "## En-Zh"
   ]
  },
  {
   "cell_type": "code",
   "execution_count": 26,
   "metadata": {},
   "outputs": [],
   "source": [
    "en_zh, zh, alignments_zh = get_data('zh')\n",
    "pos_pairs_zh, edge_pairs_zh = get_pos_edge_pair_counts(en_zh, zh, alignments_zh)"
   ]
  },
  {
   "cell_type": "code",
   "execution_count": 37,
   "metadata": {},
   "outputs": [
    {
     "data": {
      "text/plain": [
       "(1.3029629775764606, 0.4280096086028898)"
      ]
     },
     "execution_count": 37,
     "metadata": {},
     "output_type": "execute_result"
    }
   ],
   "source": [
    "mutual_information(pos_pairs_zh)"
   ]
  },
  {
   "cell_type": "code",
   "execution_count": 38,
   "metadata": {},
   "outputs": [
    {
     "data": {
      "text/plain": [
       "(2.1020000349804215, 0.34542813568916303)"
      ]
     },
     "execution_count": 38,
     "metadata": {},
     "output_type": "execute_result"
    }
   ],
   "source": [
    "mutual_information(edge_pairs_zh)"
   ]
  },
  {
   "cell_type": "markdown",
   "metadata": {},
   "source": [
    "## En-Ko"
   ]
  },
  {
   "cell_type": "code",
   "execution_count": 29,
   "metadata": {},
   "outputs": [],
   "source": [
    "en_ko, ko, alignments_ko = get_data('ko')\n",
    "pos_pairs_ko, edge_pairs_ko = get_pos_edge_pair_counts(en_ko, ko, alignments_ko)"
   ]
  },
  {
   "cell_type": "code",
   "execution_count": 39,
   "metadata": {},
   "outputs": [
    {
     "data": {
      "text/plain": [
       "(0.9059525985449439, 0.3171634407444342)"
      ]
     },
     "execution_count": 39,
     "metadata": {},
     "output_type": "execute_result"
    }
   ],
   "source": [
    "mutual_information(pos_pairs_ko)"
   ]
  },
  {
   "cell_type": "code",
   "execution_count": 40,
   "metadata": {},
   "outputs": [
    {
     "data": {
      "text/plain": [
       "(1.8197131777245381, 0.316649169136819)"
      ]
     },
     "execution_count": 40,
     "metadata": {},
     "output_type": "execute_result"
    }
   ],
   "source": [
    "mutual_information(edge_pairs_ko)"
   ]
  }
 ],
 "metadata": {
  "kernelspec": {
   "display_name": "Python 3",
   "language": "python",
   "name": "python3"
  },
  "language_info": {
   "codemirror_mode": {
    "name": "ipython",
    "version": 3
   },
   "file_extension": ".py",
   "mimetype": "text/x-python",
   "name": "python",
   "nbconvert_exporter": "python",
   "pygments_lexer": "ipython3",
   "version": "3.7.3"
  }
 },
 "nbformat": 4,
 "nbformat_minor": 2
}
