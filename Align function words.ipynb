{
 "cells": [
  {
   "cell_type": "code",
   "execution_count": 1,
   "metadata": {},
   "outputs": [],
   "source": [
    "import sqlite3\n",
    "import json\n",
    "import re\n",
    "import pandas as pd\n",
    "import numpy as np\n",
    "from collections import Counter\n",
    "from queue import Queue\n",
    "from itertools import combinations as combs"
   ]
  },
  {
   "cell_type": "code",
   "execution_count": 3,
   "metadata": {},
   "outputs": [],
   "source": [
    "import PUDAnalisysLib as PAL\n",
    "import importlib"
   ]
  },
  {
   "cell_type": "code",
   "execution_count": 15,
   "metadata": {},
   "outputs": [],
   "source": [
    "PAL = importlib.reload(PAL)"
   ]
  },
  {
   "cell_type": "code",
   "execution_count": 50,
   "metadata": {},
   "outputs": [],
   "source": [
    "# Only process one-to-one\n",
    "# Iterate over align function words; check if those have\n",
    "# unaligned dependents with the same edge label.\n",
    "\n",
    "def add_alignments(en, ru, content_word_alignments):\n",
    "    en_n, en_g = PAL.conll2graph(en)\n",
    "    ru_n, ru_g = PAL.conll2graph(ru)\n",
    "    ru_aligned = set()\n",
    "    align_stats = Counter()\n",
    "    for t, hs in content_word_alignments.items():\n",
    "        for h in hs:\n",
    "            ru_aligned.add(h)\n",
    "    for edge in PAL.one_to_one(content_word_alignments):\n",
    "        t, h = edge\n",
    "        t_children = [\n",
    "            child for child in en_g.get(t, []) if child[2] == 'down' and \\\n",
    "                                                  child[1] != 'punct' and \\\n",
    "                                                  child[0] not in content_word_alignments\n",
    "        ]\n",
    "        h_children = [\n",
    "            child for child in ru_g.get(h, []) if child[2] == 'down' and \\\n",
    "                                                  child[1] != 'punct' and \\\n",
    "                                                  child[0] not in ru_aligned\n",
    "        ]\n",
    "        if not t_children or not h_children:\n",
    "            # Nothing to align\n",
    "            continue\n",
    "        elif len(t_children) == 1 and len(h_children) == 1:\n",
    "            # Align if edge labels are similar\n",
    "            t_child = t_children[0]\n",
    "            h_child = h_children[0]\n",
    "            if t_child[1] == h_child[1]:\n",
    "                align_stats[(\n",
    "                    t_child[1],\n",
    "                    h_child[1]\n",
    "                )] += 1\n",
    "        else:\n",
    "            # Optimistically align pairs of children with\n",
    "            # the same edge labels disregarding their order\n",
    "            while t_children and h_children:\n",
    "                t_child = t_children.pop()\n",
    "                for i in range(len(h_children)):\n",
    "                    h_child = h_children[i]\n",
    "                    if t_child[1] == h_child[1]:\n",
    "                        # Align\n",
    "                        align_stats[(\n",
    "                            t_child[1],\n",
    "                            h_child[1]\n",
    "                        )] += 1\n",
    "                        # Remove from target children and restart\n",
    "                        h_children = h_children[:i] + h_children[i+1:]\n",
    "                        break\n",
    "    return align_stats"
   ]
  },
  {
   "cell_type": "code",
   "execution_count": 51,
   "metadata": {},
   "outputs": [],
   "source": [
    "def compute_stats_for_additional_alignments(lang):\n",
    "    en, fr, alignments_en_fr = PAL.get_data_for_lang(lang)\n",
    "    simple_alignments = Counter()\n",
    "    for en_, fr_, align in zip(en, fr, alignments_en_fr):\n",
    "        simple_alignments.update(add_alignments(en_, fr_, align))\n",
    "    return simple_alignments.most_common()"
   ]
  },
  {
   "cell_type": "markdown",
   "metadata": {},
   "source": [
    "## Only align single children"
   ]
  },
  {
   "cell_type": "code",
   "execution_count": 46,
   "metadata": {},
   "outputs": [
    {
     "data": {
      "text/plain": [
       "[(('det', 'det'), 686),\n",
       " (('case', 'case'), 395),\n",
       " (('punct', 'punct'), 136),\n",
       " (('nmod:poss', 'nmod:poss'), 84),\n",
       " (('mark', 'mark'), 79),\n",
       " (('nsubj', 'nsubj'), 22),\n",
       " (('fixed', 'fixed'), 20),\n",
       " (('obj', 'obj'), 3),\n",
       " (('aux:pass', 'aux:pass'), 3),\n",
       " (('aux', 'aux'), 2),\n",
       " (('cop', 'cop'), 2),\n",
       " (('advmod', 'advmod'), 2),\n",
       " (('advcl', 'advcl'), 1)]"
      ]
     },
     "execution_count": 46,
     "metadata": {},
     "output_type": "execute_result"
    }
   ],
   "source": [
    "compute_stats_for_additional_alignments('fr')"
   ]
  },
  {
   "cell_type": "code",
   "execution_count": 47,
   "metadata": {},
   "outputs": [
    {
     "data": {
      "text/plain": [
       "[(('case', 'case'), 348),\n",
       " (('punct', 'punct'), 267),\n",
       " (('cc', 'cc'), 191),\n",
       " (('det', 'det'), 46),\n",
       " (('mark', 'mark'), 4),\n",
       " (('advmod', 'advmod'), 3),\n",
       " (('cc:preconj', 'cc:preconj'), 2),\n",
       " (('aux:pass', 'aux:pass'), 1)]"
      ]
     },
     "execution_count": 47,
     "metadata": {},
     "output_type": "execute_result"
    }
   ],
   "source": [
    "compute_stats_for_additional_alignments('ru')"
   ]
  },
  {
   "cell_type": "code",
   "execution_count": 48,
   "metadata": {},
   "outputs": [
    {
     "data": {
      "text/plain": [
       "[(('case', 'case'), 192),\n",
       " (('punct', 'punct'), 177),\n",
       " (('det', 'det'), 34),\n",
       " (('mark', 'mark'), 4),\n",
       " (('cc', 'cc'), 3),\n",
       " (('cop', 'cop'), 1),\n",
       " (('aux:pass', 'aux:pass'), 1)]"
      ]
     },
     "execution_count": 48,
     "metadata": {},
     "output_type": "execute_result"
    }
   ],
   "source": [
    "compute_stats_for_additional_alignments('zh')"
   ]
  },
  {
   "cell_type": "code",
   "execution_count": 49,
   "metadata": {
    "scrolled": true
   },
   "outputs": [
    {
     "data": {
      "text/plain": [
       "[(('punct', 'punct'), 118),\n",
       " (('det', 'det'), 38),\n",
       " (('cc', 'cc'), 26),\n",
       " (('nmod:poss', 'nmod:poss'), 11),\n",
       " (('advmod', 'advmod'), 3),\n",
       " (('nummod', 'nummod'), 1)]"
      ]
     },
     "execution_count": 49,
     "metadata": {},
     "output_type": "execute_result"
    }
   ],
   "source": [
    "compute_stats_for_additional_alignments('ko')"
   ]
  },
  {
   "cell_type": "markdown",
   "metadata": {},
   "source": [
    "## Try to align more"
   ]
  },
  {
   "cell_type": "code",
   "execution_count": 52,
   "metadata": {},
   "outputs": [
    {
     "data": {
      "text/plain": [
       "[(('det', 'det'), 1549),\n",
       " (('case', 'case'), 1348),\n",
       " (('nmod:poss', 'nmod:poss'), 185),\n",
       " (('aux:pass', 'aux:pass'), 157),\n",
       " (('mark', 'mark'), 149),\n",
       " (('cop', 'cop'), 137),\n",
       " (('aux', 'aux'), 114),\n",
       " (('nsubj', 'nsubj'), 73),\n",
       " (('fixed', 'fixed'), 37),\n",
       " (('nsubj:pass', 'nsubj:pass'), 14),\n",
       " (('advmod', 'advmod'), 12),\n",
       " (('obj', 'obj'), 11),\n",
       " (('expl', 'expl'), 9),\n",
       " (('obl', 'obl'), 5),\n",
       " (('ccomp', 'ccomp'), 4),\n",
       " (('acl:relcl', 'acl:relcl'), 2),\n",
       " (('advcl', 'advcl'), 1),\n",
       " (('conj', 'conj'), 1),\n",
       " (('parataxis', 'parataxis'), 1)]"
      ]
     },
     "execution_count": 52,
     "metadata": {},
     "output_type": "execute_result"
    }
   ],
   "source": [
    "compute_stats_for_additional_alignments('fr')"
   ]
  },
  {
   "cell_type": "code",
   "execution_count": 53,
   "metadata": {},
   "outputs": [
    {
     "data": {
      "text/plain": [
       "[(('case', 'case'), 756),\n",
       " (('cc', 'cc'), 357),\n",
       " (('mark', 'mark'), 122),\n",
       " (('det', 'det'), 92),\n",
       " (('aux:pass', 'aux:pass'), 90),\n",
       " (('nsubj', 'nsubj'), 60),\n",
       " (('cop', 'cop'), 40),\n",
       " (('advmod', 'advmod'), 18),\n",
       " (('aux', 'aux'), 11),\n",
       " (('nsubj:pass', 'nsubj:pass'), 6),\n",
       " (('cc:preconj', 'cc:preconj'), 5),\n",
       " (('obl', 'obl'), 5),\n",
       " (('amod', 'amod'), 4),\n",
       " (('obj', 'obj'), 3),\n",
       " (('ccomp', 'ccomp'), 2),\n",
       " (('fixed', 'fixed'), 1),\n",
       " (('appos', 'appos'), 1),\n",
       " (('nummod', 'nummod'), 1),\n",
       " (('flat', 'flat'), 1),\n",
       " (('nmod', 'nmod'), 1)]"
      ]
     },
     "execution_count": 53,
     "metadata": {},
     "output_type": "execute_result"
    }
   ],
   "source": [
    "compute_stats_for_additional_alignments('ru')"
   ]
  },
  {
   "cell_type": "code",
   "execution_count": 54,
   "metadata": {},
   "outputs": [
    {
     "data": {
      "text/plain": [
       "[(('case', 'case'), 391),\n",
       " (('aux', 'aux'), 79),\n",
       " (('det', 'det'), 74),\n",
       " (('cop', 'cop'), 69),\n",
       " (('aux:pass', 'aux:pass'), 47),\n",
       " (('mark', 'mark'), 8),\n",
       " (('cc', 'cc'), 3),\n",
       " (('ccomp', 'ccomp'), 2),\n",
       " (('nummod', 'nummod'), 1),\n",
       " (('nsubj', 'nsubj'), 1),\n",
       " (('appos', 'appos'), 1)]"
      ]
     },
     "execution_count": 54,
     "metadata": {},
     "output_type": "execute_result"
    }
   ],
   "source": [
    "compute_stats_for_additional_alignments('zh')"
   ]
  },
  {
   "cell_type": "code",
   "execution_count": 55,
   "metadata": {
    "scrolled": true
   },
   "outputs": [
    {
     "data": {
      "text/plain": [
       "[(('det', 'det'), 85),\n",
       " (('cop', 'cop'), 55),\n",
       " (('cc', 'cc'), 54),\n",
       " (('nmod:poss', 'nmod:poss'), 20),\n",
       " (('nsubj', 'nsubj'), 12),\n",
       " (('advmod', 'advmod'), 12),\n",
       " (('advcl', 'advcl'), 3),\n",
       " (('nummod', 'nummod'), 1),\n",
       " (('acl:relcl', 'acl:relcl'), 1),\n",
       " (('nsubj:pass', 'nsubj:pass'), 1),\n",
       " (('aux', 'aux'), 1)]"
      ]
     },
     "execution_count": 55,
     "metadata": {},
     "output_type": "execute_result"
    }
   ],
   "source": [
    "compute_stats_for_additional_alignments('ko')"
   ]
  },
  {
   "cell_type": "code",
   "execution_count": 67,
   "metadata": {},
   "outputs": [],
   "source": [
    "def edge_label_counts(blocks):\n",
    "    counter = Counter()\n",
    "    for b in blocks:\n",
    "        nodes_dict, _ = PAL.conll2graph(b)\n",
    "        for n in nodes_dict.values():\n",
    "            counter[n['relation']] += 1\n",
    "    return counter"
   ]
  },
  {
   "cell_type": "code",
   "execution_count": 70,
   "metadata": {},
   "outputs": [],
   "source": [
    "en, zh, _ = PAL.get_data_for_lang('zh')"
   ]
  },
  {
   "cell_type": "code",
   "execution_count": 71,
   "metadata": {},
   "outputs": [
    {
     "data": {
      "text/plain": [
       "Counter({'punct': 2896,\n",
       "         'mark': 291,\n",
       "         'nmod': 702,\n",
       "         'case': 1319,\n",
       "         'nummod': 808,\n",
       "         'compound': 1775,\n",
       "         'nsubj': 1774,\n",
       "         'advcl': 514,\n",
       "         'xcomp': 475,\n",
       "         'discourse:sp': 87,\n",
       "         'advmod': 1330,\n",
       "         'dep': 397,\n",
       "         'obj': 1522,\n",
       "         'amod': 419,\n",
       "         'appos': 248,\n",
       "         'flat:name': 142,\n",
       "         'obl:tmod': 214,\n",
       "         'acl:relcl': 448,\n",
       "         'mark:relcl': 626,\n",
       "         'obl': 578,\n",
       "         'case:loc': 351,\n",
       "         'root': 999,\n",
       "         'mark:prt': 337,\n",
       "         'det': 338,\n",
       "         'cop': 251,\n",
       "         'clf': 356,\n",
       "         'ccomp': 403,\n",
       "         'aux': 685,\n",
       "         'csubj': 72,\n",
       "         'conj': 383,\n",
       "         'cc': 283,\n",
       "         'obl:patient': 39,\n",
       "         'acl': 19,\n",
       "         'aux:pass': 79,\n",
       "         'nsubj:pass': 70,\n",
       "         'obl:agent': 22,\n",
       "         'discourse': 1,\n",
       "         'vocative': 1,\n",
       "         'iobj': 15,\n",
       "         'flat': 91,\n",
       "         'dislocated': 5,\n",
       "         'parataxis': 2,\n",
       "         'mark:adv': 22,\n",
       "         'fixed': 1})"
      ]
     },
     "execution_count": 71,
     "metadata": {},
     "output_type": "execute_result"
    }
   ],
   "source": [
    "edge_label_counts(zh)"
   ]
  },
  {
   "cell_type": "code",
   "execution_count": 72,
   "metadata": {},
   "outputs": [],
   "source": [
    "en, fr, _ = PAL.get_data_for_lang('fr')"
   ]
  },
  {
   "cell_type": "code",
   "execution_count": 73,
   "metadata": {},
   "outputs": [
    {
     "data": {
      "text/plain": [
       "Counter({'punct': 2550,\n",
       "         'mark': 450,\n",
       "         'fixed': 452,\n",
       "         'det': 3585,\n",
       "         'advmod': 1002,\n",
       "         'amod': 1392,\n",
       "         'nsubj': 1422,\n",
       "         'case': 3427,\n",
       "         'nmod': 1819,\n",
       "         'advcl': 219,\n",
       "         'obl': 1404,\n",
       "         'dislocated': 3,\n",
       "         'parataxis': 105,\n",
       "         'cop': 226,\n",
       "         'aux': 569,\n",
       "         'root': 999,\n",
       "         'flat:name': 227,\n",
       "         'appos': 275,\n",
       "         'obl:tmod': 79,\n",
       "         'acl:relcl': 225,\n",
       "         'obj': 1093,\n",
       "         'xcomp': 407,\n",
       "         'discourse': 30,\n",
       "         'nmod:poss': 277,\n",
       "         'ccomp': 305,\n",
       "         'iobj': 36,\n",
       "         'cc': 545,\n",
       "         'conj': 653,\n",
       "         'nsubj:pass': 200,\n",
       "         'aux:pass': 227,\n",
       "         'expl': 85,\n",
       "         'nummod': 243,\n",
       "         'acl': 28,\n",
       "         'compound': 78,\n",
       "         'det:predet': 20,\n",
       "         'csubj': 23,\n",
       "         'vocative': 1,\n",
       "         'flat': 17,\n",
       "         'dep': 9,\n",
       "         'orphan': 4,\n",
       "         'goeswith': 3,\n",
       "         'csubj:pass': 1})"
      ]
     },
     "execution_count": 73,
     "metadata": {},
     "output_type": "execute_result"
    }
   ],
   "source": [
    "edge_label_counts(fr)"
   ]
  },
  {
   "cell_type": "code",
   "execution_count": 69,
   "metadata": {},
   "outputs": [
    {
     "data": {
      "text/plain": [
       "Counter({'punct': 2447,\n",
       "         'mark': 555,\n",
       "         'nsubj': 1391,\n",
       "         'case': 2499,\n",
       "         'det': 2044,\n",
       "         'amod': 1335,\n",
       "         'nmod': 1076,\n",
       "         'cop': 316,\n",
       "         'advcl': 292,\n",
       "         'compound': 810,\n",
       "         'obl': 1237,\n",
       "         'root': 999,\n",
       "         'advmod': 856,\n",
       "         'flat': 229,\n",
       "         'parataxis': 96,\n",
       "         'nmod:tmod': 39,\n",
       "         'acl:relcl': 211,\n",
       "         'obj': 873,\n",
       "         'aux': 410,\n",
       "         'obl:npmod': 18,\n",
       "         'cc': 574,\n",
       "         'nmod:poss': 365,\n",
       "         'acl': 193,\n",
       "         'ccomp': 135,\n",
       "         'xcomp': 271,\n",
       "         'conj': 634,\n",
       "         'nsubj:pass': 239,\n",
       "         'aux:pass': 274,\n",
       "         'dislocated': 2,\n",
       "         'reparandum': 1,\n",
       "         'nummod': 254,\n",
       "         'appos': 142,\n",
       "         'fixed': 104,\n",
       "         'expl': 62,\n",
       "         'csubj': 27,\n",
       "         'iobj': 10,\n",
       "         'obl:tmod': 17,\n",
       "         'orphan': 7,\n",
       "         'compound:prt': 69,\n",
       "         'discourse': 1,\n",
       "         'vocative': 1,\n",
       "         'nmod:npmod': 19,\n",
       "         'cc:preconj': 11,\n",
       "         'det:predet': 9,\n",
       "         'goeswith': 1,\n",
       "         'dep': 1,\n",
       "         'csubj:pass': 3})"
      ]
     },
     "execution_count": 69,
     "metadata": {},
     "output_type": "execute_result"
    }
   ],
   "source": [
    "edge_label_counts(en)"
   ]
  }
 ],
 "metadata": {
  "kernelspec": {
   "display_name": "Python 3",
   "language": "python",
   "name": "python3"
  },
  "language_info": {
   "codemirror_mode": {
    "name": "ipython",
    "version": 3
   },
   "file_extension": ".py",
   "mimetype": "text/x-python",
   "name": "python",
   "nbconvert_exporter": "python",
   "pygments_lexer": "ipython3",
   "version": "3.7.3"
  }
 },
 "nbformat": 4,
 "nbformat_minor": 2
}
