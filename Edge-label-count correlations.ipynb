{
 "cells": [
  {
   "cell_type": "code",
   "execution_count": 1,
   "metadata": {},
   "outputs": [],
   "source": [
    "import sqlite3\n",
    "import json\n",
    "import re\n",
    "import pandas as pd\n",
    "import numpy as np\n",
    "from collections import Counter\n",
    "from queue import Queue\n",
    "from itertools import combinations as combs"
   ]
  },
  {
   "cell_type": "code",
   "execution_count": 4,
   "metadata": {},
   "outputs": [],
   "source": [
    "import PUDAnalisysLib as PAL"
   ]
  },
  {
   "cell_type": "code",
   "execution_count": 59,
   "metadata": {},
   "outputs": [],
   "source": [
    "from scipy.stats import spearmanr\n",
    "from scipy.stats.mstats import gmean"
   ]
  },
  {
   "cell_type": "code",
   "execution_count": 3,
   "metadata": {},
   "outputs": [],
   "source": [
    "## Compute correlations of counts of all edge labels in block pairs\n",
    "## Use geometric mean as the measure of structural coherence"
   ]
  },
  {
   "cell_type": "code",
   "execution_count": 18,
   "metadata": {},
   "outputs": [],
   "source": [
    "from collections import defaultdict\n",
    "\n",
    "get_rel = lambda node: node['relation'].split(':')[0]\n",
    "\n",
    "dict_factory = lambda: { 'en': [], 'fr': [] }\n",
    "\n",
    "def compute_correlations(lang):\n",
    "    en, fr, _ = PAL.get_data_for_lang(lang)\n",
    "    vector_pairs = defaultdict(dict_factory)\n",
    "    for en_b, fr_b in zip(en, fr):\n",
    "        en_n, _ = PAL.conll2graph(en_b)\n",
    "        fr_n, _ = PAL.conll2graph(fr_b)\n",
    "        en_rel_c = Counter()\n",
    "        fr_rel_c = Counter()\n",
    "        for n in en_n.values():\n",
    "            en_rel_c[get_rel(n)] += 1\n",
    "        for n in fr_n.values():\n",
    "            fr_rel_c[get_rel(n)] += 1\n",
    "        # Make sure that the set of relations is congruent\n",
    "        for k, v in en_rel_c.items():\n",
    "            vector_pairs[k]['en'].append(v)\n",
    "            if k not in fr_rel_c:\n",
    "                vector_pairs[k]['fr'].append(0)\n",
    "        for k, v in fr_rel_c.items():\n",
    "            vector_pairs[k]['fr'].append(v)\n",
    "            if k not in en_rel_c:\n",
    "                vector_pairs[k]['en'].append(0)\n",
    "    correlations = {}\n",
    "    for k, v in vector_pairs.items():\n",
    "        # Discard rare relations\n",
    "        if k in {'punct', 'root'} or len(v['en']) < 10:\n",
    "            continue\n",
    "        correlations[k] = spearmanr(\n",
    "            v['en'],\n",
    "            v['fr']\n",
    "        )\n",
    "    return correlations"
   ]
  },
  {
   "cell_type": "code",
   "execution_count": 75,
   "metadata": {},
   "outputs": [],
   "source": [
    "function_rels = [\n",
    "    'conj',\n",
    "    'cc',\n",
    "    'case',\n",
    "    'flat',\n",
    "    'aux',\n",
    "    'det',\n",
    "    'mark',\n",
    "    'cop'\n",
    "]\n",
    "\n",
    "def print_cors(lang):\n",
    "    cors = compute_correlations(lang)\n",
    "    print('Content relations:')\n",
    "    content_rels = [el for el in cors if el not in function_rels]\n",
    "    for key in sorted(content_rels):\n",
    "        print(f'{key:11}: {cors[key].correlation:.2}')\n",
    "    print()\n",
    "    print('Pseudo-geometric mean:')\n",
    "    cors_nums = [el.correlation+1 for k, el in cors.items() if (k in content_rels) and not pd.isna(el.correlation)]\n",
    "    print(gmean(cors_nums)-1)\n",
    "    print()\n",
    "    print('Function relations:')\n",
    "    for key in sorted(function_rels):\n",
    "        print(f'{key:11}: {cors[key].correlation:.2}')\n",
    "    print()\n",
    "    print('Pseudo-geometric mean:')\n",
    "    cors_nums = [el.correlation+1 for k, el in cors.items() if (k not in content_rels) and not pd.isna(el.correlation)]\n",
    "    print(gmean(cors_nums)-1)"
   ]
  },
  {
   "cell_type": "code",
   "execution_count": 76,
   "metadata": {},
   "outputs": [
    {
     "name": "stdout",
     "output_type": "stream",
     "text": [
      "Content relations:\n",
      "acl        : -0.0052\n",
      "advcl      : 0.029\n",
      "advmod     : 0.39\n",
      "amod       : 0.57\n",
      "appos      : 0.14\n",
      "ccomp      : -0.086\n",
      "compound   : 0.14\n",
      "csubj      : -0.34\n",
      "discourse  : -0.036\n",
      "expl       : -0.29\n",
      "fixed      : -0.3\n",
      "iobj       : -0.62\n",
      "nmod       : 0.48\n",
      "nsubj      : 0.78\n",
      "nummod     : 0.41\n",
      "obj        : 0.39\n",
      "obl        : 0.52\n",
      "parataxis  : -0.14\n",
      "xcomp      : -0.1\n",
      "\n",
      "Pseudo-geometric mean:\n",
      "0.03605456614686342\n",
      "\n",
      "Function relations:\n",
      "aux        : -0.038\n",
      "case       : 0.67\n",
      "cc         : 0.58\n",
      "conj       : 0.71\n",
      "cop        : -0.097\n",
      "det        : 0.56\n",
      "flat       : 0.15\n",
      "mark       : 0.25\n",
      "\n",
      "Pseudo-geometric mean:\n",
      "0.3118279168559286\n"
     ]
    }
   ],
   "source": [
    "print_cors('fr')"
   ]
  },
  {
   "cell_type": "code",
   "execution_count": 77,
   "metadata": {},
   "outputs": [
    {
     "name": "stdout",
     "output_type": "stream",
     "text": [
      "Content relations:\n",
      "acl        : 0.026\n",
      "advcl      : -0.1\n",
      "advmod     : 0.3\n",
      "amod       : 0.56\n",
      "appos      : -0.17\n",
      "ccomp      : -0.14\n",
      "compound   : 0.048\n",
      "csubj      : -0.7\n",
      "discourse  : 0.71\n",
      "expl       : -0.72\n",
      "fixed      : -0.54\n",
      "iobj       : -0.1\n",
      "nmod       : 0.41\n",
      "nsubj      : 0.69\n",
      "nummod     : 0.39\n",
      "obj        : 0.27\n",
      "obl        : 0.42\n",
      "orphan     : -0.48\n",
      "parataxis  : 0.0092\n",
      "xcomp      : -0.27\n",
      "\n",
      "Pseudo-geometric mean:\n",
      "-0.08080484893397\n",
      "\n",
      "Function relations:\n",
      "aux        : 0.028\n",
      "case       : 0.54\n",
      "cc         : 0.61\n",
      "conj       : 0.66\n",
      "cop        : -0.21\n",
      "det        : -0.015\n",
      "flat       : 0.22\n",
      "mark       : -0.043\n",
      "\n",
      "Pseudo-geometric mean:\n",
      "0.18226162361306208\n"
     ]
    }
   ],
   "source": [
    "print_cors('ru')"
   ]
  },
  {
   "cell_type": "code",
   "execution_count": 78,
   "metadata": {},
   "outputs": [
    {
     "name": "stdout",
     "output_type": "stream",
     "text": [
      "Content relations:\n",
      "acl        : -0.16\n",
      "advcl      : -0.27\n",
      "advmod     : 0.27\n",
      "amod       : 0.15\n",
      "appos      : -0.11\n",
      "ccomp      : -0.051\n",
      "clf        : nan\n",
      "compound   : 0.27\n",
      "csubj      : -0.75\n",
      "dep        : -0.15\n",
      "discourse  : 0.49\n",
      "expl       : nan\n",
      "fixed      : -0.25\n",
      "iobj       : -0.99\n",
      "nmod       : 0.16\n",
      "nsubj      : 0.56\n",
      "nummod     : 0.29\n",
      "obj        : 0.29\n",
      "obl        : 0.27\n",
      "parataxis  : -0.052\n",
      "xcomp      : -0.41\n",
      "\n",
      "Pseudo-geometric mean:\n",
      "-0.24415707213530946\n",
      "\n",
      "Function relations:\n",
      "aux        : -0.14\n",
      "case       : 0.41\n",
      "cc         : 0.34\n",
      "conj       : 0.47\n",
      "cop        : -0.29\n",
      "det        : 0.075\n",
      "flat       : 0.24\n",
      "mark       : 0.0051\n",
      "\n",
      "Pseudo-geometric mean:\n",
      "0.10909795312745896\n"
     ]
    },
    {
     "name": "stderr",
     "output_type": "stream",
     "text": [
      "/usr/local/lib/python3.7/site-packages/numpy/lib/function_base.py:2400: RuntimeWarning: invalid value encountered in true_divide\n",
      "  c /= stddev[:, None]\n",
      "/usr/local/lib/python3.7/site-packages/numpy/lib/function_base.py:2401: RuntimeWarning: invalid value encountered in true_divide\n",
      "  c /= stddev[None, :]\n",
      "/usr/local/lib/python3.7/site-packages/scipy/stats/_distn_infrastructure.py:877: RuntimeWarning: invalid value encountered in greater\n",
      "  return (self.a < x) & (x < self.b)\n",
      "/usr/local/lib/python3.7/site-packages/scipy/stats/_distn_infrastructure.py:877: RuntimeWarning: invalid value encountered in less\n",
      "  return (self.a < x) & (x < self.b)\n",
      "/usr/local/lib/python3.7/site-packages/scipy/stats/_distn_infrastructure.py:1831: RuntimeWarning: invalid value encountered in less_equal\n",
      "  cond2 = cond0 & (x <= self.a)\n"
     ]
    }
   ],
   "source": [
    "print_cors('zh')"
   ]
  },
  {
   "cell_type": "code",
   "execution_count": 79,
   "metadata": {},
   "outputs": [
    {
     "name": "stdout",
     "output_type": "stream",
     "text": [
      "Content relations:\n",
      "acl        : 0.043\n",
      "advcl      : -0.049\n",
      "advmod     : 0.3\n",
      "amod       : 0.04\n",
      "appos      : -0.54\n",
      "ccomp      : -0.68\n",
      "compound   : 0.34\n",
      "csubj      : -0.9\n",
      "dep        : -0.032\n",
      "expl       : nan\n",
      "fixed      : -0.19\n",
      "goeswith   : -0.72\n",
      "iobj       : -0.82\n",
      "nmod       : 0.12\n",
      "nsubj      : 0.46\n",
      "nummod     : 0.48\n",
      "obj        : 0.25\n",
      "obl        : 0.13\n",
      "parataxis  : nan\n",
      "xcomp      : nan\n",
      "\n",
      "Pseudo-geometric mean:\n",
      "-0.28242743519261326\n",
      "\n",
      "Function relations:\n",
      "aux        : -0.32\n",
      "case       : nan\n",
      "cc         : 0.26\n",
      "conj       : 0.55\n",
      "cop        : -0.33\n",
      "det        : 0.0032\n",
      "flat       : -0.093\n",
      "mark       : nan\n",
      "\n",
      "Pseudo-geometric mean:\n",
      "-0.03450472405257832\n"
     ]
    }
   ],
   "source": [
    "print_cors('ko')"
   ]
  }
 ],
 "metadata": {
  "kernelspec": {
   "display_name": "Python 3",
   "language": "python",
   "name": "python3"
  },
  "language_info": {
   "codemirror_mode": {
    "name": "ipython",
    "version": 3
   },
   "file_extension": ".py",
   "mimetype": "text/x-python",
   "name": "python",
   "nbconvert_exporter": "python",
   "pygments_lexer": "ipython3",
   "version": "3.7.4"
  }
 },
 "nbformat": 4,
 "nbformat_minor": 2
}
