{
 "cells": [
  {
   "cell_type": "code",
   "execution_count": 1,
   "metadata": {},
   "outputs": [],
   "source": [
    "from collections import Counter\n",
    "from math import log2"
   ]
  },
  {
   "cell_type": "code",
   "execution_count": 12,
   "metadata": {},
   "outputs": [],
   "source": [
    "def get_counts(blocks):\n",
    "    pos_counts = Counter()\n",
    "    edge_label_counts = Counter()\n",
    "    for b in blocks:\n",
    "        for l in b.splitlines():\n",
    "            if l.startswith('#'):\n",
    "                continue\n",
    "            fields = l.split('\\t')\n",
    "            pos = fields[3]\n",
    "            edge = fields[7]\n",
    "            if pos not in {'X', '_', 'PUNCT'}:\n",
    "                pos_counts[pos] += 1\n",
    "            if edge not in {'_', 'punct', 'root'}:\n",
    "                # Strip refinements to make things more similar\n",
    "                edge_label_counts[edge.split(':')[0]] += 1\n",
    "    return (pos_counts, edge_label_counts)"
   ]
  },
  {
   "cell_type": "code",
   "execution_count": 18,
   "metadata": {},
   "outputs": [],
   "source": [
    "def KL_divergences(path1, path2):\n",
    "    with open(path1, 'r', encoding='utf-8') as inp:\n",
    "        blocks1 = inp.read().split('\\n\\n')\n",
    "    with open(path2, 'r', encoding='utf-8') as inp:\n",
    "        blocks2 = inp.read().split('\\n\\n')\n",
    "    blocks1 = [b for b in blocks1 if b]\n",
    "    blocks2 = [b for b in blocks2 if b]\n",
    "    \n",
    "    pos_counts1, edge_counts1 = get_counts(blocks1)\n",
    "    pos_counts2, edge_counts2 = get_counts(blocks2)\n",
    "    \n",
    "    # Report violations of absolute continuity for POS\n",
    "    pos_unique_to_1 = set.difference(\n",
    "        set(pos_counts1.keys()),\n",
    "        set(pos_counts2.keys())\n",
    "    )\n",
    "    pos_unique_to_2 = set.difference(\n",
    "        set(pos_counts2.keys()),\n",
    "        set(pos_counts1.keys())\n",
    "    )\n",
    "    if pos_unique_to_1:\n",
    "        print(f'POS found only in {path1}:', pos_unique_to_1)\n",
    "    if pos_unique_to_2:\n",
    "        print(f'POS found only in {path2}:', pos_unique_to_2)\n",
    "    \n",
    "    # Now blissfully ignore them\n",
    "    common_pos = set.intersection(set(pos_counts1.keys()), set(pos_counts2.keys()))\n",
    "    \n",
    "    # Report violations of absoluter continuity for edge labels\n",
    "    edges_unique_to_1 = set.difference(\n",
    "        set(edge_counts1.keys()),\n",
    "        set(edge_counts2.keys())\n",
    "    )\n",
    "    edges_unique_to_2 = set.difference(\n",
    "        set(edge_counts2.keys()),\n",
    "        set(edge_counts1.keys())\n",
    "    )\n",
    "    if edges_unique_to_1:\n",
    "        print(f'Edge labels found only in {path1}:', edges_unique_to_1)\n",
    "    if edges_unique_to_2:\n",
    "        print(f'Edge labels found only in {path2}:', edges_unique_to_2)\n",
    "        \n",
    "    # Now blissfully ignore them\n",
    "    common_edge_labels = set.intersection(set(edge_counts1.keys()), set(edge_counts2.keys()))\n",
    "    \n",
    "    KL_divergence_POS = 0\n",
    "    KL_divergence_edges = 0\n",
    "    \n",
    "    total_pos1 = sum(pos_counts1.values())\n",
    "    total_pos2 = sum(pos_counts2.values())\n",
    "    total_edges1 = sum(edge_counts1.values())\n",
    "    total_edges2 = sum(edge_counts2.values())\n",
    "    \n",
    "    for pos in common_pos:\n",
    "        P_x = pos_counts1[pos] / total_pos1\n",
    "        Q_x = pos_counts2[pos] / total_pos2\n",
    "        KL_divergence_POS += -1 * P_x * log2( Q_x / P_x )\n",
    "        \n",
    "    for edge in common_edge_labels:\n",
    "        P_x = edge_counts1[edge] / total_edges1\n",
    "        Q_x = edge_counts2[edge] / total_edges2\n",
    "        KL_divergence_edges += -1 * P_x * log2( Q_x / P_x )\n",
    "        \n",
    "    return (KL_divergence_POS, KL_divergence_edges)"
   ]
  },
  {
   "cell_type": "code",
   "execution_count": 21,
   "metadata": {},
   "outputs": [
    {
     "name": "stdout",
     "output_type": "stream",
     "text": [
      "ar_pud-ud-test.conllu  fr_pud-ud-test.conllu  ru_pud-ud-test.conllu\r\n",
      "cs_pud-ud-test.conllu  id_pud-ud-test.conllu  zh_pud-ud-test.conllu\r\n",
      "en_pud-ud-test.conllu  ja_pud-ud-test.conllu  zh_pud-ud-test.conllu.txt\r\n"
     ]
    }
   ],
   "source": [
    "! exa *pud-ud*"
   ]
  },
  {
   "cell_type": "code",
   "execution_count": 22,
   "metadata": {},
   "outputs": [],
   "source": [
    "other_languages = [\n",
    "    'ar',\n",
    "    'cs',\n",
    "    'fr',\n",
    "    'id',\n",
    "    'ja',\n",
    "    'ru',\n",
    "    'zh'\n",
    "]"
   ]
  },
  {
   "cell_type": "code",
   "execution_count": 23,
   "metadata": {},
   "outputs": [
    {
     "name": "stdout",
     "output_type": "stream",
     "text": [
      "POS found only in en_pud-ud-test.conllu: {'INTJ'}\n",
      "Edge labels found only in en_pud-ud-test.conllu: {'reparandum'}\n",
      "POS found only in en_pud-ud-test.conllu: {'INTJ'}\n",
      "Edge labels found only in en_pud-ud-test.conllu: {'dislocated', 'reparandum', 'dep', 'goeswith'}\n",
      "POS found only in en_pud-ud-test.conllu: {'INTJ'}\n",
      "Edge labels found only in en_pud-ud-test.conllu: {'reparandum'}\n",
      "POS found only in en_pud-ud-test.conllu: {'INTJ', 'SCONJ'}\n",
      "Edge labels found only in en_pud-ud-test.conllu: {'expl', 'reparandum', 'orphan'}\n",
      "Edge labels found only in id_pud-ud-test.conllu: {'clf'}\n",
      "POS found only in en_pud-ud-test.conllu: {'INTJ'}\n",
      "Edge labels found only in en_pud-ud-test.conllu: {'reparandum', 'conj', 'vocative', 'discourse', 'goeswith', 'expl', 'orphan', 'xcomp', 'flat', 'parataxis'}\n",
      "POS found only in en_pud-ud-test.conllu: {'INTJ'}\n",
      "Edge labels found only in en_pud-ud-test.conllu: {'reparandum', 'dep', 'dislocated'}\n",
      "POS found only in en_pud-ud-test.conllu: {'SYM', 'INTJ'}\n",
      "Edge labels found only in en_pud-ud-test.conllu: {'expl', 'reparandum', 'orphan', 'goeswith'}\n",
      "Edge labels found only in zh_pud-ud-test.conllu: {'clf'}\n"
     ]
    }
   ],
   "source": [
    "kl_divs = []\n",
    "for lang_code in other_languages:\n",
    "    kl_divs.append((\n",
    "        KL_divergences('en_pud-ud-test.conllu', f'{lang_code}_pud-ud-test.conllu'),\n",
    "        lang_code\n",
    "    ))"
   ]
  },
  {
   "cell_type": "code",
   "execution_count": 26,
   "metadata": {},
   "outputs": [
    {
     "data": {
      "text/plain": [
       "['cs', 'ru', 'fr', 'id', 'zh', 'ar', 'ja']"
      ]
     },
     "execution_count": 26,
     "metadata": {},
     "output_type": "execute_result"
    }
   ],
   "source": [
    "# Sort by KL divergence in POS distribution\n",
    "[el[1] for el in sorted(kl_divs, key = lambda x: x[0][0])]"
   ]
  },
  {
   "cell_type": "code",
   "execution_count": 27,
   "metadata": {},
   "outputs": [
    {
     "data": {
      "text/plain": [
       "['fr', 'id', 'cs', 'ar', 'ru', 'zh', 'ja']"
      ]
     },
     "execution_count": 27,
     "metadata": {},
     "output_type": "execute_result"
    }
   ],
   "source": [
    "# Sort by KL divergence in edge-label distribution\n",
    "[el[1] for el in sorted(kl_divs, key = lambda x: x[0][1])]"
   ]
  }
 ],
 "metadata": {
  "kernelspec": {
   "display_name": "Python 3",
   "language": "python",
   "name": "python3"
  },
  "language_info": {
   "codemirror_mode": {
    "name": "ipython",
    "version": 3
   },
   "file_extension": ".py",
   "mimetype": "text/x-python",
   "name": "python",
   "nbconvert_exporter": "python",
   "pygments_lexer": "ipython3",
   "version": "3.7.3"
  }
 },
 "nbformat": 4,
 "nbformat_minor": 2
}
